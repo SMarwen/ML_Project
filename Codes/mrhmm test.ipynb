{
 "cells": [
  {
   "cell_type": "markdown",
   "metadata": {},
   "source": [
    "** Some imports **"
   ]
  },
  {
   "cell_type": "code",
   "execution_count": 3,
   "metadata": {
    "collapsed": false
   },
   "outputs": [],
   "source": [
    "from scipy import signal\n",
    "import matplotlib.pyplot as plt\n",
    "import numpy as np\n",
    "import pandas as pd\n",
    "import seaborn\n",
    "%matplotlib inline"
   ]
  },
  {
   "cell_type": "markdown",
   "metadata": {},
   "source": [
    "** Load Data ** "
   ]
  },
  {
   "cell_type": "code",
   "execution_count": 4,
   "metadata": {
    "collapsed": false
   },
   "outputs": [],
   "source": [
    "names = ['ind', 'ax', 'ay', 'az', 'label']\n",
    "acc_names = ['ax', 'ay', 'az']\n",
    "label2str = {1:'Working at Computer', 2:'Standing Up, Walking and Going up-down stairs', \n",
    "             3:'Standing', 4:'Walking',5:'Going Up\\Down Stairs', 6:'Walking and Talking with Someone', \n",
    "             7:'Talking while Standing'}\n",
    "df = pd.read_csv(\"Dataset/1.csv\", sep=',', names=names)\n",
    "del df['ind']\n",
    "df = df[df.label != 0]\n",
    "df['label_str'] = df.label.apply(lambda x:label2str[x])"
   ]
  },
  {
   "cell_type": "markdown",
   "metadata": {},
   "source": [
    "** Add signals ** "
   ]
  },
  {
   "cell_type": "code",
   "execution_count": 5,
   "metadata": {
    "collapsed": false
   },
   "outputs": [
    {
     "data": {
      "text/html": [
       "<div>\n",
       "<table border=\"1\" class=\"dataframe\">\n",
       "  <thead>\n",
       "    <tr style=\"text-align: right;\">\n",
       "      <th></th>\n",
       "      <th>ax</th>\n",
       "      <th>ay</th>\n",
       "      <th>az</th>\n",
       "      <th>label</th>\n",
       "      <th>label_str</th>\n",
       "      <th>mag</th>\n",
       "      <th>ax_mf</th>\n",
       "      <th>ay_mf</th>\n",
       "      <th>az_mf</th>\n",
       "      <th>ax_d</th>\n",
       "      <th>ay_d</th>\n",
       "      <th>az_d</th>\n",
       "      <th>ax_lp</th>\n",
       "      <th>ay_lp</th>\n",
       "      <th>az_lp</th>\n",
       "      <th>ax_hp</th>\n",
       "      <th>ay_hp</th>\n",
       "      <th>az_hp</th>\n",
       "    </tr>\n",
       "  </thead>\n",
       "  <tbody>\n",
       "    <tr>\n",
       "      <th>0</th>\n",
       "      <td>1502</td>\n",
       "      <td>2215</td>\n",
       "      <td>2153</td>\n",
       "      <td>1</td>\n",
       "      <td>Working at Computer</td>\n",
       "      <td>3434.768988</td>\n",
       "      <td>1502</td>\n",
       "      <td>2072</td>\n",
       "      <td>2047</td>\n",
       "      <td>165</td>\n",
       "      <td>-143</td>\n",
       "      <td>-106</td>\n",
       "      <td>0.294570</td>\n",
       "      <td>0.434402</td>\n",
       "      <td>0.422243</td>\n",
       "      <td>1330.950456</td>\n",
       "      <td>1962.753168</td>\n",
       "      <td>1907.813802</td>\n",
       "    </tr>\n",
       "    <tr>\n",
       "      <th>1</th>\n",
       "      <td>1667</td>\n",
       "      <td>2072</td>\n",
       "      <td>2047</td>\n",
       "      <td>1</td>\n",
       "      <td>Working at Computer</td>\n",
       "      <td>3355.932359</td>\n",
       "      <td>1611</td>\n",
       "      <td>2072</td>\n",
       "      <td>2047</td>\n",
       "      <td>165</td>\n",
       "      <td>-143</td>\n",
       "      <td>-106</td>\n",
       "      <td>2.023204</td>\n",
       "      <td>2.907854</td>\n",
       "      <td>2.832932</td>\n",
       "      <td>1155.714581</td>\n",
       "      <td>1362.002403</td>\n",
       "      <td>1353.118154</td>\n",
       "    </tr>\n",
       "    <tr>\n",
       "      <th>2</th>\n",
       "      <td>1611</td>\n",
       "      <td>1957</td>\n",
       "      <td>1906</td>\n",
       "      <td>1</td>\n",
       "      <td>Working at Computer</td>\n",
       "      <td>3171.435952</td>\n",
       "      <td>1611</td>\n",
       "      <td>1957</td>\n",
       "      <td>1906</td>\n",
       "      <td>-56</td>\n",
       "      <td>-115</td>\n",
       "      <td>-141</td>\n",
       "      <td>7.011663</td>\n",
       "      <td>9.821684</td>\n",
       "      <td>9.584772</td>\n",
       "      <td>789.314495</td>\n",
       "      <td>875.625099</td>\n",
       "      <td>847.401747</td>\n",
       "    </tr>\n",
       "    <tr>\n",
       "      <th>3</th>\n",
       "      <td>1601</td>\n",
       "      <td>1939</td>\n",
       "      <td>1831</td>\n",
       "      <td>1</td>\n",
       "      <td>Working at Computer</td>\n",
       "      <td>3110.543843</td>\n",
       "      <td>1611</td>\n",
       "      <td>1957</td>\n",
       "      <td>1879</td>\n",
       "      <td>-10</td>\n",
       "      <td>-18</td>\n",
       "      <td>-75</td>\n",
       "      <td>16.960462</td>\n",
       "      <td>23.217970</td>\n",
       "      <td>22.667546</td>\n",
       "      <td>517.382527</td>\n",
       "      <td>551.056967</td>\n",
       "      <td>481.033069</td>\n",
       "    </tr>\n",
       "    <tr>\n",
       "      <th>4</th>\n",
       "      <td>1643</td>\n",
       "      <td>1965</td>\n",
       "      <td>1879</td>\n",
       "      <td>1</td>\n",
       "      <td>Working at Computer</td>\n",
       "      <td>3176.683018</td>\n",
       "      <td>1604</td>\n",
       "      <td>1959</td>\n",
       "      <td>1879</td>\n",
       "      <td>42</td>\n",
       "      <td>26</td>\n",
       "      <td>48</td>\n",
       "      <td>33.066246</td>\n",
       "      <td>44.414894</td>\n",
       "      <td>43.325413</td>\n",
       "      <td>330.972495</td>\n",
       "      <td>313.877533</td>\n",
       "      <td>283.050573</td>\n",
       "    </tr>\n",
       "  </tbody>\n",
       "</table>\n",
       "</div>"
      ],
      "text/plain": [
       "     ax    ay    az  label            label_str          mag  ax_mf  ay_mf  \\\n",
       "0  1502  2215  2153      1  Working at Computer  3434.768988   1502   2072   \n",
       "1  1667  2072  2047      1  Working at Computer  3355.932359   1611   2072   \n",
       "2  1611  1957  1906      1  Working at Computer  3171.435952   1611   1957   \n",
       "3  1601  1939  1831      1  Working at Computer  3110.543843   1611   1957   \n",
       "4  1643  1965  1879      1  Working at Computer  3176.683018   1604   1959   \n",
       "\n",
       "   az_mf  ax_d  ay_d  az_d      ax_lp      ay_lp      az_lp        ax_hp  \\\n",
       "0   2047   165  -143  -106   0.294570   0.434402   0.422243  1330.950456   \n",
       "1   2047   165  -143  -106   2.023204   2.907854   2.832932  1155.714581   \n",
       "2   1906   -56  -115  -141   7.011663   9.821684   9.584772   789.314495   \n",
       "3   1879   -10   -18   -75  16.960462  23.217970  22.667546   517.382527   \n",
       "4   1879    42    26    48  33.066246  44.414894  43.325413   330.972495   \n",
       "\n",
       "         ay_hp        az_hp  \n",
       "0  1962.753168  1907.813802  \n",
       "1  1362.002403  1353.118154  \n",
       "2   875.625099   847.401747  \n",
       "3   551.056967   481.033069  \n",
       "4   313.877533   283.050573  "
      ]
     },
     "execution_count": 5,
     "metadata": {},
     "output_type": "execute_result"
    }
   ],
   "source": [
    "# Magnitude\n",
    "df['mag'] = np.sqrt(np.square(df[acc_names]).sum(axis=1)) \n",
    "# Median filter - 3rd ordre\n",
    "def med_fil(df, names):\n",
    "    df_r = pd.DataFrame()\n",
    "    df = df[names]\n",
    "    for column in df.columns:\n",
    "        name = column+'_mf'\n",
    "        df_r[name] = signal.medfilt(df[column].values)\n",
    "    return df_r\n",
    "df_med = med_fil(df, acc_names)\n",
    "# Diffrential\n",
    "def diffrential(df, names):\n",
    "    df = df[names]\n",
    "    df_r = df.diff(periods=1, axis=0).fillna(method='backfill')\n",
    "    df_r.columns = [names[0]+'_d', names[1]+'_d', names[2]+'_d']\n",
    "    return df_r\n",
    "df_diff = diffrential(df, acc_names)\n",
    "# Low pass filter\n",
    "def lowpass(df, names):\n",
    "    df = df[names]\n",
    "    df_r = pd.DataFrame()\n",
    "    fs = 52 # frequence sampling is 52\n",
    "    f_cut = 1 # cutoff frequency\n",
    "    fs_n = f_cut*2.0/fs # normalized frequency\n",
    "    b,a = signal.butter(N=3, Wn=fs_n, btype='low')\n",
    "    for column in df.columns : \n",
    "        name = column+'_lp'\n",
    "        df_r[name] = signal.lfilter(b,a,df[column].values)\n",
    "    return df_r\n",
    "df_lp = lowpass(df, acc_names)  \n",
    "# High pass filter \n",
    "def highpass(df, names):\n",
    "    df = df[names]\n",
    "    df_r = pd.DataFrame()\n",
    "    fs = 52 # frequence sampling is 52\n",
    "    f_cut = 1 # cutoff frequency\n",
    "    fs_n = f_cut*2.0/fs # normalized frequency\n",
    "    b,a = signal.butter(N=3, Wn=fs_n, btype='high')\n",
    "    for column in df.columns : \n",
    "        name = column+'_hp'\n",
    "        df_r[name] = signal.lfilter(b,a,df[column].values)\n",
    "    return df_r\n",
    "df_hp = highpass(df, acc_names)\n",
    "\n",
    "# Total\n",
    "df = pd.concat([df, df_med, df_diff, df_lp, df_hp], axis=1)\n",
    "df.head()"
   ]
  },
  {
   "cell_type": "code",
   "execution_count": 6,
   "metadata": {
    "collapsed": true
   },
   "outputs": [],
   "source": [
    "# names = ['ax','ay','az','mag','ax_mf','ay_mf','az_mf','ax_lp','ay_lp','az_lp', 'ax_hp','ay_hp','az_hp']\n",
    "\n",
    "\n",
    "def extract_variables(df):\n",
    "#     def rms(df, names):\n",
    "#         # TODO\n",
    "#         pass\n",
    "#     def minmax(df, names=names):\n",
    "#         res = []\n",
    "#         for column in df.columns:   \n",
    "#             if column in names:\n",
    "#                 i_min = df[column].argmin()\n",
    "#                 i_max = df[column].argmax()\n",
    "#                 i1 = min(i_min, i_max)\n",
    "#                 i2 = max(i_min, i_max)\n",
    "#                 m = df[column].values[i1:i2].mean()\n",
    "#                 res.append(m)\n",
    "#         return res\n",
    "        \n",
    "    m = df.mean(axis=0).values\n",
    "    ma = df.mad(axis=0).values\n",
    "    std = df.std(axis=0).values\n",
    "    minimum = df.min(axis=0).values\n",
    "    maximum = df.max(axis=0).values\n",
    "    skew = df.skew(axis=0).values\n",
    "    kurt = df.kurtosis(axis=0).values\n",
    "#     minmax = minmax(df, names) \n",
    "#     rms = rms(df, names) # TODO\n",
    "    inteQ = (df.quantile(q=0.75) - df.quantile(q=0.25)).values\n",
    "    r = np.hstack([m, ma, std, minimum, maximum, skew, kurt, inteQ])    \n",
    "    return r"
   ]
  },
  {
   "cell_type": "markdown",
   "metadata": {
    "collapsed": true
   },
   "source": [
    "### Windowing"
   ]
  },
  {
   "cell_type": "code",
   "execution_count": 7,
   "metadata": {
    "collapsed": true
   },
   "outputs": [],
   "source": [
    "def windowing(signal,size,step):\n",
    "    d = len(signal) #length of the signal\n",
    "    nk = int(np.floor((d-size+1)/step))+1 #le nombre de fenetres\n",
    "    wk = np.zeros((nk,size)) #windows\n",
    "    for j in range(nk):\n",
    "        wk[j,:] = signal[j*step:j*step+size]\n",
    "    return wk"
   ]
  },
  {
   "cell_type": "code",
   "execution_count": 8,
   "metadata": {
    "collapsed": true
   },
   "outputs": [],
   "source": [
    "def window_labels(labels,size,step):\n",
    "    d = len(labels) #length of the signal\n",
    "    nk = int(np.floor((d-size+1)/step))+1 #le nombre de fenetres\n",
    "    labelwk = np.zeros((nk)) #window labels\n",
    "    for j in range(nk):\n",
    "        labelwk[j] = np.max(np.argmax(np.bincount(labels[j*step:j*step+size])))\n",
    "    return labelwk"
   ]
  },
  {
   "cell_type": "code",
   "execution_count": 9,
   "metadata": {
    "collapsed": true
   },
   "outputs": [],
   "source": [
    "def extract_windows(df,size,step):\n",
    "    \n",
    "    \"\"\"\n",
    "    extract windows with the specified size and step from the dataframe df\n",
    "    \n",
    "    Returns:\n",
    "    L : List of dataframes. Each dataframe contains a window extracted from each signal in df.\n",
    "    labels: labels of windows\n",
    "    \"\"\"\n",
    "    \n",
    "    L = []\n",
    "    n = df.shape[0]\n",
    "    L_windows = dict()\n",
    "    n_windows = int(np.floor((n-size+1)/step))+1\n",
    "    for column in df.columns:\n",
    "        if column not in ['label','label_str']:\n",
    "            L_windows[column] = windowing(df[column],size,step)\n",
    "    for i in range(n_windows):\n",
    "        ddf = pd.DataFrame()\n",
    "        for column in df.columns:\n",
    "            if column not in ['label','label_str']:\n",
    "                ddf[column] = L_windows[column][i,:]\n",
    "        L.append(ddf)\n",
    "    labels = window_labels(df['label'],size,step)\n",
    "    \n",
    "    return L,labels"
   ]
  },
  {
   "cell_type": "code",
   "execution_count": 10,
   "metadata": {
    "collapsed": false
   },
   "outputs": [],
   "source": [
    "Nbr_samples = 52\n",
    "percentage = 0.5 # Between 0 & 1\n",
    "df_X, df_Y = extract_windows(df,Nbr_samples,int(percentage*Nbr_samples))"
   ]
  },
  {
   "cell_type": "markdown",
   "metadata": {},
   "source": [
    "** Extract Matrix of Features ** "
   ]
  },
  {
   "cell_type": "code",
   "execution_count": 11,
   "metadata": {
    "collapsed": false
   },
   "outputs": [],
   "source": [
    "X = extract_variables(df_X[0])\n",
    "for i in range(1,len(df_X)):\n",
    "    vec = extract_variables(df_X[i])\n",
    "    X = np.vstack([X,vec])\n",
    "    \n",
    "y = np.array(df_Y) "
   ]
  },
  {
   "cell_type": "code",
   "execution_count": 12,
   "metadata": {
    "collapsed": false
   },
   "outputs": [],
   "source": [
    "cla = [2,5]\n",
    "ix = np.in1d(y, cla)\n",
    "y = y[ix]\n",
    "X = X[ix]"
   ]
  },
  {
   "cell_type": "code",
   "execution_count": 39,
   "metadata": {
    "collapsed": false
   },
   "outputs": [
    {
     "ename": "ImportError",
     "evalue": "cannot import name 'hmm'",
     "output_type": "error",
     "traceback": [
      "\u001b[1;31m---------------------------------------------------------------------------\u001b[0m",
      "\u001b[1;31mImportError\u001b[0m                               Traceback (most recent call last)",
      "\u001b[1;32m<ipython-input-39-528acb3e2d5f>\u001b[0m in \u001b[0;36m<module>\u001b[1;34m()\u001b[0m\n\u001b[1;32m----> 1\u001b[1;33m \u001b[1;32mfrom\u001b[0m \u001b[0msklearn\u001b[0m \u001b[1;32mimport\u001b[0m \u001b[0mhmm\u001b[0m\u001b[1;33m\u001b[0m\u001b[0m\n\u001b[0m\u001b[0;32m      2\u001b[0m \u001b[0mmodel\u001b[0m \u001b[1;33m=\u001b[0m \u001b[0mhmm\u001b[0m\u001b[1;33m.\u001b[0m\u001b[0mGaussianHMM\u001b[0m\u001b[1;33m(\u001b[0m\u001b[1;36m2\u001b[0m\u001b[1;33m,\u001b[0m \u001b[1;34m\"full\"\u001b[0m\u001b[1;33m)\u001b[0m\u001b[1;33m\u001b[0m\u001b[0m\n\u001b[0;32m      3\u001b[0m \u001b[0mmodel\u001b[0m\u001b[1;33m.\u001b[0m\u001b[0mfit\u001b[0m\u001b[1;33m(\u001b[0m\u001b[0mX\u001b[0m\u001b[1;33m)\u001b[0m\u001b[1;33m\u001b[0m\u001b[0m\n",
      "\u001b[1;31mImportError\u001b[0m: cannot import name 'hmm'"
     ]
    }
   ],
   "source": [
    "from sklearn import hmm\n",
    "model = hmm.GaussianHMM(2, \"full\")\n",
    "model.fit(X)"
   ]
  },
  {
   "cell_type": "markdown",
   "metadata": {},
   "source": [
    "** Machine Learning **"
   ]
  },
  {
   "cell_type": "code",
   "execution_count": 36,
   "metadata": {
    "collapsed": false
   },
   "outputs": [],
   "source": [
    "from sklearn.preprocessing import PolynomialFeatures\n",
    "from scipy.stats import multivariate_normal\n",
    "from sklearn.preprocessing import normalize\n",
    "from scipy.misc import logsumexp\n",
    "from scipy.linalg import inv\n",
    "from scipy.linalg import pinv\n",
    "from numpy.matlib import repmat\n",
    "\n",
    "def log_normalize(x):\n",
    "    (n,d) = x.shape\n",
    "    a = np.max(x,axis=1)\n",
    "    x = x - repmat(a+np.log( np.sum( np.exp(x-repmat(a,1,d).reshape((n,d)))  , axis=1 )  ) ,1,d ).reshape((n,d))\n",
    "    return x\n",
    "    #x - repmat(a + log( sum( exp( x - repmat(a,1,d) ) , 2 ) ) ,1,d) ;\n",
    "\n",
    "def compute_tau(n,K,pi,mean,sigma,Y):\n",
    "    log_unnormalized = np.zeros((n,K))\n",
    "    (m,d) = Y.shape\n",
    "    for b in range(K):\n",
    "        invsigma = inv(sigma[b])\n",
    "        xc = (Y-repmat(mean[b],n,1))\n",
    "        A1 = -0.5*np.sum(np.multiply(np.dot(xc,invsigma),xc),axis=1)\n",
    "        A2 = -0.5*np.sum(np.log(np.linalg.eig(sigma[b])[0])) \n",
    "        A3 = -0.5*d*np.log(2*np.pi) + np.log(pi[b])\n",
    "        log_unnormalized[:,b] =  A1+A2+A3\n",
    "    logtau = log_normalize(log_unnormalized)\n",
    "    tau = np.exp(logtau)\n",
    "    return tau\n",
    "\n",
    "def sumLogExp(x):\n",
    "    a = np.max(x)\n",
    "    return a + np.log(np.sum(np.exp(x - a)))\n",
    "    \n",
    "    \n",
    "\n",
    "def fit(Y,K,p,labels,max_iter):\n",
    "    #p is the degree of the polynomial regression\n",
    "    #K is the number of classes\n",
    "    #Y is a n*d obeservation matrix\n",
    "    #labels is the labels matrix of Y\n",
    "    \n",
    "    \"\"\" Initialisation \"\"\"\n",
    "    n,d = Y.shape\n",
    "    pf = PolynomialFeatures(degree=p) #transformer to get polynomial features of the time\n",
    "    t = pf.fit_transform(np.arange(n).reshape(-1,1)) #matrix containing the polynomial features of the time\n",
    "    pi = (1.0/K)*np.ones((K))\n",
    "    A = (1.0/(2.0*(K-1)))*np.ones((K,K))\n",
    "    for i in range(K):\n",
    "        A[i,i] = 0.5\n",
    "    B = [] #list of coefficient matrices\n",
    "    sigma = [] #list of covariance matrices \n",
    "    for i in range(K):\n",
    "        B.append(np.random.uniform(-1,1,(p+1,d)))\n",
    "        s = np.transpose(Y[labels==i,:])\n",
    "        #sigma.append(np.cov(s))\n",
    "        sigma.append(np.eye(d))\n",
    "    \n",
    "   \n",
    "    #F = np.zeros((K,n))\n",
    "    F_log = np.zeros((K,n))\n",
    "    for k in range(K):\n",
    "        for i in range(n):\n",
    "            mean = np.mean(Y,axis=0) #np.dot(B[k].T,t[k,:])\n",
    "            cov = 100*np.eye(d) #sigma[k]\n",
    "            F_log[k,i]=multivariate_normal.pdf(Y[i,:],mean,cov)\n",
    "    print(F_log)\n",
    "\n",
    "\n",
    "    \n",
    "    \n",
    "    \n",
    "    for i in range(max_iter):\n",
    "        \"\"\" E step \"\"\"\n",
    "        #appeler tranpose(F) :c\n",
    "        #calculate P1 and P2\n",
    "        #P1 is a n*K matrix\n",
    "        #P2 is a matrix of size n*K*K\n",
    "        P11,P2 = fwd_bkw(pi,np.transpose(F),A)\n",
    "        P1 = np.transpose(P11)\n",
    "        \"\"\" M step \"\"\"\n",
    "        pi = P1[0,:]\n",
    "        A = np.transpose(np.sum(P2[1:,:,:],axis=0))\n",
    "        for j in range(K):\n",
    "            A[j,:] = A[j,:]/np.sum(P1[1:,:],axis=0)\n",
    "            W = np.diag(P1[:,j])\n",
    "            #print(np.sum(P1[:,j]))\n",
    "            M = np.dot(np.transpose(t),np.dot(W,t))\n",
    "            m = M.shape[0]\n",
    "            B[j] = np.dot(inv(M),np.transpose(t))\n",
    "            B[j] = np.dot(B[j],np.dot(W,Y))\n",
    "            c = 1.0/np.sum(P1[:,j])\n",
    "            M = Y-np.dot(t,B[j])\n",
    "            sigma[j] = c*np.dot(np.transpose(M),np.dot(W,M))\n",
    "        #calculate the Bs and the sigmas\n",
    "        \"\"\" Update F \"\"\"\n",
    "        F = np.zeros((n,K))\n",
    "        for i in range(n):\n",
    "            for k in range(K):\n",
    "                mean = np.dot(B[k].T,t[k,:])\n",
    "                cov = np.eye(d) # sigma[k]\n",
    "                F[i,k]=multivariate_normal.pdf(Y[i,:],mean, cov)\n",
    "\n",
    "\n",
    "        \n",
    "    return pi,A,B,sigma\n",
    "\n",
    "def fwd_bkw(init_dist,F,A):\n",
    "    [K,T] = F.shape\n",
    "    alpha = np.zeros((K,T))\n",
    "    beta = np.zeros((K,T))\n",
    "    \n",
    "    # Forward recursion\n",
    "    t=1\n",
    "    alpha[:,t] = np.multiply(init_dist,F[:,t])\n",
    "    alpha[:,t] = normalize(alpha[:,t].reshape(1,-1),norm='l1')\n",
    "    \n",
    "    for t in np.arange(2,T):\n",
    "        m = np.dot(A.T,alpha[:,t-1])\n",
    "        alpha[:,t]=np.multiply(m,F[:,t])\n",
    "        alpha[:,t] = normalize(alpha[:,t].reshape(1,-1),norm='l1')\n",
    "        \n",
    "    \n",
    "    # Backward recursion\n",
    "    beta[:,T-1] = normalize(np.ones(K).reshape(1,-1),norm='l1')\n",
    "    for t in np.arange(1,T-1)[::-1]:\n",
    "        b = np.multiply(beta[:,t+1], F[:,t+1])\n",
    "        beta[:,t] = np.dot(A,b)\n",
    "        beta[:,t] = normalize(beta[:,t].reshape(1,-1),norm='l1')\n",
    "    \n",
    "    # Compute P1=p(kt|y1,...,yT)=alpha*beta/sum(alpha*beta)\n",
    "    P1 = np.zeros((K,T))\n",
    "    for t in np.arange(T):\n",
    "        P1[:,t] = np.multiply(alpha[:,t],beta[:,t])/logsumexp(np.multiply(alpha[:,t],beta[:,t]))\n",
    "        P1[:,t] = normalize(P1[:,t].reshape(1,-1),norm='l1')\n",
    "    \n",
    "    # Compute P2=p(kt,kt+1|y1,...,yT)\n",
    "    P2 = np.zeros((T-1,K,K))\n",
    "    for t in np.arange(1,T-2):\n",
    "        for i in np.arange(1,K-1):\n",
    "            for j in np.arange(1,K-1):\n",
    "                P2[t,i,j]=alpha[i,t]*beta[j,t+1]*F[j,t+1]\n",
    "        P2[t,:,:] = normalize(P2[t,:,:],norm='l1')\n",
    "    return P1,P2\n",
    "\n",
    "\n",
    "def forward(params, observations):\n",
    "    pi, A, O = params\n",
    "    N = len(observations)\n",
    "    S = pi.shape[0]\n",
    "    \n",
    "    alpha = np.zeros((N, S))\n",
    "    \n",
    "    # base case\n",
    "    alpha[0, :] = pi * O[:,observations[0]]\n",
    "    \n",
    "    # recursive case\n",
    "    for i in range(1, N):\n",
    "        for s2 in range(S):\n",
    "            for s1 in range(S):\n",
    "                alpha[i, s2] += alpha[i-1, s1] * A[s1, s2] * O[s2, observations[i]]\n",
    "    \n",
    "    return (alpha, np.sum(alpha[N-1,:]))\n",
    "\n",
    "\n",
    "def backward(params, observations):\n",
    "    pi, A, O = params\n",
    "    N = len(observations)\n",
    "    S = pi.shape[0]\n",
    "    \n",
    "    beta = np.zeros((N, S))\n",
    "    \n",
    "    # base case\n",
    "    beta[N-1, :] = 1\n",
    "    \n",
    "    # recursive case\n",
    "    for i in range(N-2, -1, -1):\n",
    "        for s1 in range(S):\n",
    "            for s2 in range(S):\n",
    "                beta[i, s1] += beta[i+1, s2] * A[s1, s2] * O[s2, observations[i+1]]\n",
    "    \n",
    "    return (beta, np.sum(pi * O[:, observations[0]] * beta[0,:]))\n",
    "\n",
    "\n"
   ]
  },
  {
   "cell_type": "code",
   "execution_count": 37,
   "metadata": {
    "collapsed": false
   },
   "outputs": [
    {
     "name": "stdout",
     "output_type": "stream",
     "text": [
      "[[  0.00000000e+000   0.00000000e+000   0.00000000e+000   0.00000000e+000\n",
      "    0.00000000e+000   0.00000000e+000   0.00000000e+000   0.00000000e+000\n",
      "    0.00000000e+000   0.00000000e+000   0.00000000e+000   0.00000000e+000\n",
      "    0.00000000e+000   0.00000000e+000   0.00000000e+000   0.00000000e+000\n",
      "    0.00000000e+000   0.00000000e+000   0.00000000e+000   0.00000000e+000\n",
      "    0.00000000e+000   0.00000000e+000   0.00000000e+000   0.00000000e+000\n",
      "    2.05697730e-234   6.90476213e-299   0.00000000e+000   0.00000000e+000\n",
      "    0.00000000e+000   0.00000000e+000   0.00000000e+000   0.00000000e+000\n",
      "    8.47512342e-300   3.61399027e-264   3.76383856e-264   0.00000000e+000\n",
      "    0.00000000e+000   0.00000000e+000   0.00000000e+000   0.00000000e+000\n",
      "    0.00000000e+000   0.00000000e+000   0.00000000e+000   0.00000000e+000\n",
      "    0.00000000e+000   0.00000000e+000   0.00000000e+000   0.00000000e+000\n",
      "    0.00000000e+000   0.00000000e+000   0.00000000e+000   2.73646947e-296\n",
      "    6.31904330e-311   0.00000000e+000   0.00000000e+000   0.00000000e+000\n",
      "    0.00000000e+000   0.00000000e+000   0.00000000e+000   0.00000000e+000\n",
      "    0.00000000e+000   0.00000000e+000   0.00000000e+000   0.00000000e+000\n",
      "    0.00000000e+000   0.00000000e+000   0.00000000e+000   0.00000000e+000\n",
      "    0.00000000e+000   0.00000000e+000   0.00000000e+000   1.05866733e-291\n",
      "    3.44981974e-230   0.00000000e+000   0.00000000e+000   0.00000000e+000\n",
      "    2.43203705e-316   0.00000000e+000   0.00000000e+000   0.00000000e+000\n",
      "    0.00000000e+000   0.00000000e+000   0.00000000e+000   0.00000000e+000\n",
      "    0.00000000e+000   0.00000000e+000   0.00000000e+000   1.95872466e-273\n",
      "    0.00000000e+000   0.00000000e+000   0.00000000e+000   0.00000000e+000\n",
      "    0.00000000e+000   0.00000000e+000   0.00000000e+000   7.59789331e-304\n",
      "    1.70060229e-276   4.77668433e-268   0.00000000e+000   0.00000000e+000\n",
      "    0.00000000e+000   1.88852929e-303   0.00000000e+000   0.00000000e+000\n",
      "    0.00000000e+000   8.96981840e-256   6.37392226e-226   5.31740461e-271\n",
      "    9.85025492e-309   4.34777768e-321   1.09548369e-300   0.00000000e+000\n",
      "    1.19955834e-306   9.81473862e-295   6.68694788e-310   1.02319208e-260\n",
      "    2.69168618e-259   0.00000000e+000   0.00000000e+000   1.42421109e-292\n",
      "    3.65265545e-282   0.00000000e+000   0.00000000e+000   4.18163044e-258\n",
      "    1.42537885e-217   2.62714097e-218   1.72857635e-305   1.99624502e-300\n",
      "    1.56030217e-243   9.62862834e-245   9.69441698e-315   4.46144796e-272\n",
      "    3.46771445e-241   1.82329195e-249   4.71907740e-232   2.12448349e-247\n",
      "    9.00187607e-321   0.00000000e+000   2.64304588e-259   1.31579056e-241\n",
      "    5.22886560e-247   1.45869560e-243   4.00574638e-245   1.05738989e-255\n",
      "    1.09720997e-293   4.00690259e-271   8.16799820e-234   4.79471035e-280\n",
      "    5.20884264e-276   0.00000000e+000   0.00000000e+000   2.40755160e-261\n",
      "    1.70926839e-258   8.21538505e-226   1.41477497e-218   3.48701307e-254\n",
      "    0.00000000e+000   0.00000000e+000]\n",
      " [  0.00000000e+000   0.00000000e+000   0.00000000e+000   0.00000000e+000\n",
      "    0.00000000e+000   0.00000000e+000   0.00000000e+000   0.00000000e+000\n",
      "    0.00000000e+000   0.00000000e+000   0.00000000e+000   0.00000000e+000\n",
      "    0.00000000e+000   0.00000000e+000   0.00000000e+000   0.00000000e+000\n",
      "    0.00000000e+000   0.00000000e+000   0.00000000e+000   0.00000000e+000\n",
      "    0.00000000e+000   0.00000000e+000   0.00000000e+000   0.00000000e+000\n",
      "    2.05697730e-234   6.90476213e-299   0.00000000e+000   0.00000000e+000\n",
      "    0.00000000e+000   0.00000000e+000   0.00000000e+000   0.00000000e+000\n",
      "    8.47512342e-300   3.61399027e-264   3.76383856e-264   0.00000000e+000\n",
      "    0.00000000e+000   0.00000000e+000   0.00000000e+000   0.00000000e+000\n",
      "    0.00000000e+000   0.00000000e+000   0.00000000e+000   0.00000000e+000\n",
      "    0.00000000e+000   0.00000000e+000   0.00000000e+000   0.00000000e+000\n",
      "    0.00000000e+000   0.00000000e+000   0.00000000e+000   2.73646947e-296\n",
      "    6.31904330e-311   0.00000000e+000   0.00000000e+000   0.00000000e+000\n",
      "    0.00000000e+000   0.00000000e+000   0.00000000e+000   0.00000000e+000\n",
      "    0.00000000e+000   0.00000000e+000   0.00000000e+000   0.00000000e+000\n",
      "    0.00000000e+000   0.00000000e+000   0.00000000e+000   0.00000000e+000\n",
      "    0.00000000e+000   0.00000000e+000   0.00000000e+000   1.05866733e-291\n",
      "    3.44981974e-230   0.00000000e+000   0.00000000e+000   0.00000000e+000\n",
      "    2.43203705e-316   0.00000000e+000   0.00000000e+000   0.00000000e+000\n",
      "    0.00000000e+000   0.00000000e+000   0.00000000e+000   0.00000000e+000\n",
      "    0.00000000e+000   0.00000000e+000   0.00000000e+000   1.95872466e-273\n",
      "    0.00000000e+000   0.00000000e+000   0.00000000e+000   0.00000000e+000\n",
      "    0.00000000e+000   0.00000000e+000   0.00000000e+000   7.59789331e-304\n",
      "    1.70060229e-276   4.77668433e-268   0.00000000e+000   0.00000000e+000\n",
      "    0.00000000e+000   1.88852929e-303   0.00000000e+000   0.00000000e+000\n",
      "    0.00000000e+000   8.96981840e-256   6.37392226e-226   5.31740461e-271\n",
      "    9.85025492e-309   4.34777768e-321   1.09548369e-300   0.00000000e+000\n",
      "    1.19955834e-306   9.81473862e-295   6.68694788e-310   1.02319208e-260\n",
      "    2.69168618e-259   0.00000000e+000   0.00000000e+000   1.42421109e-292\n",
      "    3.65265545e-282   0.00000000e+000   0.00000000e+000   4.18163044e-258\n",
      "    1.42537885e-217   2.62714097e-218   1.72857635e-305   1.99624502e-300\n",
      "    1.56030217e-243   9.62862834e-245   9.69441698e-315   4.46144796e-272\n",
      "    3.46771445e-241   1.82329195e-249   4.71907740e-232   2.12448349e-247\n",
      "    9.00187607e-321   0.00000000e+000   2.64304588e-259   1.31579056e-241\n",
      "    5.22886560e-247   1.45869560e-243   4.00574638e-245   1.05738989e-255\n",
      "    1.09720997e-293   4.00690259e-271   8.16799820e-234   4.79471035e-280\n",
      "    5.20884264e-276   0.00000000e+000   0.00000000e+000   2.40755160e-261\n",
      "    1.70926839e-258   8.21538505e-226   1.41477497e-218   3.48701307e-254\n",
      "    0.00000000e+000   0.00000000e+000]]\n"
     ]
    },
    {
     "ename": "UnboundLocalError",
     "evalue": "local variable 'F' referenced before assignment",
     "output_type": "error",
     "traceback": [
      "\u001b[1;31m---------------------------------------------------------------------------\u001b[0m",
      "\u001b[1;31mUnboundLocalError\u001b[0m                         Traceback (most recent call last)",
      "\u001b[1;32m<ipython-input-37-165292c72f3f>\u001b[0m in \u001b[0;36m<module>\u001b[1;34m()\u001b[0m\n\u001b[1;32m----> 1\u001b[1;33m \u001b[0mfit\u001b[0m\u001b[1;33m(\u001b[0m\u001b[0mX\u001b[0m\u001b[1;33m,\u001b[0m\u001b[1;36m2\u001b[0m\u001b[1;33m,\u001b[0m\u001b[1;36m10\u001b[0m\u001b[1;33m,\u001b[0m\u001b[0my\u001b[0m\u001b[1;33m,\u001b[0m\u001b[1;36m2\u001b[0m\u001b[1;33m)\u001b[0m\u001b[1;33m\u001b[0m\u001b[0m\n\u001b[0m",
      "\u001b[1;32m<ipython-input-36-fb937c5dbcc3>\u001b[0m in \u001b[0;36mfit\u001b[1;34m(Y, K, p, labels, max_iter)\u001b[0m\n\u001b[0;32m     76\u001b[0m         \u001b[1;31m#P1 is a n*K matrix\u001b[0m\u001b[1;33m\u001b[0m\u001b[1;33m\u001b[0m\u001b[0m\n\u001b[0;32m     77\u001b[0m         \u001b[1;31m#P2 is a matrix of size n*K*K\u001b[0m\u001b[1;33m\u001b[0m\u001b[1;33m\u001b[0m\u001b[0m\n\u001b[1;32m---> 78\u001b[1;33m         \u001b[0mP11\u001b[0m\u001b[1;33m,\u001b[0m\u001b[0mP2\u001b[0m \u001b[1;33m=\u001b[0m \u001b[0mfwd_bkw\u001b[0m\u001b[1;33m(\u001b[0m\u001b[0mpi\u001b[0m\u001b[1;33m,\u001b[0m\u001b[0mnp\u001b[0m\u001b[1;33m.\u001b[0m\u001b[0mtranspose\u001b[0m\u001b[1;33m(\u001b[0m\u001b[0mF\u001b[0m\u001b[1;33m)\u001b[0m\u001b[1;33m,\u001b[0m\u001b[0mA\u001b[0m\u001b[1;33m)\u001b[0m\u001b[1;33m\u001b[0m\u001b[0m\n\u001b[0m\u001b[0;32m     79\u001b[0m         \u001b[0mP1\u001b[0m \u001b[1;33m=\u001b[0m \u001b[0mnp\u001b[0m\u001b[1;33m.\u001b[0m\u001b[0mtranspose\u001b[0m\u001b[1;33m(\u001b[0m\u001b[0mP11\u001b[0m\u001b[1;33m)\u001b[0m\u001b[1;33m\u001b[0m\u001b[0m\n\u001b[0;32m     80\u001b[0m         \u001b[1;34m\"\"\" M step \"\"\"\u001b[0m\u001b[1;33m\u001b[0m\u001b[0m\n",
      "\u001b[1;31mUnboundLocalError\u001b[0m: local variable 'F' referenced before assignment"
     ]
    }
   ],
   "source": [
    "fit(X,2,10,y,2)"
   ]
  },
  {
   "cell_type": "code",
   "execution_count": 183,
   "metadata": {
    "collapsed": false
   },
   "outputs": [
    {
     "data": {
      "text/plain": [
       "(6249, 128)"
      ]
     },
     "execution_count": 183,
     "metadata": {},
     "output_type": "execute_result"
    }
   ],
   "source": [
    "X.shape"
   ]
  },
  {
   "cell_type": "code",
   "execution_count": 146,
   "metadata": {
    "collapsed": false
   },
   "outputs": [
    {
     "data": {
      "text/plain": [
       "array([[-1.71544965, -2.15266041, -2.02453012, -2.54952197, -2.02417456,\n",
       "        -1.70436512, -2.57615563],\n",
       "       [-2.50832937, -1.89793982, -2.16478836, -1.13529234, -1.78184726,\n",
       "        -2.25810163, -2.11220545],\n",
       "       [-2.54640136, -1.42185538, -2.13004245, -2.27354118, -1.74131026,\n",
       "        -1.73367537, -1.84182151],\n",
       "       [-1.62480363, -1.86999193, -2.15792254, -1.82266231, -1.91896535,\n",
       "        -1.98840168, -1.88231953],\n",
       "       [-2.21747678, -2.07752282, -1.65354362, -2.22374016, -2.48947861,\n",
       "        -1.66741601, -1.66105115]])"
      ]
     },
     "execution_count": 146,
     "metadata": {},
     "output_type": "execute_result"
    }
   ],
   "source": [
    "log_normalize(A)"
   ]
  },
  {
   "cell_type": "code",
   "execution_count": 109,
   "metadata": {
    "collapsed": false
   },
   "outputs": [
    {
     "data": {
      "text/plain": [
       "array([[ 0.96753754,  0.13259923,  0.3372037 ,  0.97948979,  0.43865387,\n",
       "         0.96753754,  0.13259923,  0.3372037 ,  0.97948979,  0.43865387,\n",
       "         0.96753754,  0.13259923,  0.3372037 ,  0.97948979,  0.43865387],\n",
       "       [ 0.54535783,  0.81468884,  0.28034059,  0.83642568,  0.17197204,\n",
       "         0.54535783,  0.81468884,  0.28034059,  0.83642568,  0.17197204,\n",
       "         0.54535783,  0.81468884,  0.28034059,  0.83642568,  0.17197204],\n",
       "       [ 0.56144315,  0.32934019,  0.07719071,  0.03714683,  0.05935149,\n",
       "         0.56144315,  0.32934019,  0.07719071,  0.03714683,  0.05935149,\n",
       "         0.56144315,  0.32934019,  0.07719071,  0.03714683,  0.05935149],\n",
       "       [ 0.57415875,  0.38052674,  0.82188269,  0.8828057 ,  0.40605557,\n",
       "         0.57415875,  0.38052674,  0.82188269,  0.8828057 ,  0.40605557,\n",
       "         0.57415875,  0.38052674,  0.82188269,  0.8828057 ,  0.40605557],\n",
       "       [ 0.22841158,  0.92882622,  0.86445451,  0.13419212,  0.50790019,\n",
       "         0.22841158,  0.92882622,  0.86445451,  0.13419212,  0.50790019,\n",
       "         0.22841158,  0.92882622,  0.86445451,  0.13419212,  0.50790019]])"
      ]
     },
     "execution_count": 109,
     "metadata": {},
     "output_type": "execute_result"
    }
   ],
   "source": [
    "repmat(A,1,3)"
   ]
  },
  {
   "cell_type": "code",
   "execution_count": 106,
   "metadata": {
    "collapsed": false
   },
   "outputs": [
    {
     "data": {
      "text/plain": [
       "array([[ 0.96753754,  0.13259923,  0.3372037 ,  0.97948979,  0.43865387],\n",
       "       [ 0.54535783,  0.81468884,  0.28034059,  0.83642568,  0.17197204],\n",
       "       [ 0.56144315,  0.32934019,  0.07719071,  0.03714683,  0.05935149],\n",
       "       [ 0.57415875,  0.38052674,  0.82188269,  0.8828057 ,  0.40605557],\n",
       "       [ 0.22841158,  0.92882622,  0.86445451,  0.13419212,  0.50790019]])"
      ]
     },
     "execution_count": 106,
     "metadata": {},
     "output_type": "execute_result"
    }
   ],
   "source": [
    "A"
   ]
  },
  {
   "cell_type": "code",
   "execution_count": null,
   "metadata": {
    "collapsed": true
   },
   "outputs": [],
   "source": []
  }
 ],
 "metadata": {
  "anaconda-cloud": {},
  "kernelspec": {
   "display_name": "Python 3",
   "language": "python",
   "name": "python3"
  },
  "language_info": {
   "codemirror_mode": {
    "name": "ipython",
    "version": 3
   },
   "file_extension": ".py",
   "mimetype": "text/x-python",
   "name": "python",
   "nbconvert_exporter": "python",
   "pygments_lexer": "ipython3",
   "version": "3.5.2"
  }
 },
 "nbformat": 4,
 "nbformat_minor": 1
}
