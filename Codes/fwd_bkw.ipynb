{
 "cells": [
  {
   "cell_type": "markdown",
   "metadata": {},
   "source": [
    "# fwd_bkw"
   ]
  },
  {
   "cell_type": "code",
   "execution_count": 25,
   "metadata": {
    "collapsed": false
   },
   "outputs": [],
   "source": [
    "from sklearn.preprocessing import normalize\n",
    "\n",
    "from sklearn.preprocessing import PolynomialFeatures\n",
    "from scipy.stats import multivariate_normal\n",
    "\n",
    "def fit(Y,K,p,labels,max_iter):\n",
    "    # p is the degree of the polynomial regression\n",
    "    # K is the number of classes\n",
    "    #Y is a n*d obeservation matrix\n",
    "    #labels is the labels matrix of Y\n",
    "    \"\"\" Initialisation \"\"\"\n",
    "    pf = PolynomialFeatures(degree=p) #transformer to get polynomial features of the time\n",
    "    t = pf.fit_transform(np.arange(n).reshape(-1,1)) #matrix containing the polynomial features of the time\n",
    "    n,d = Y.shape\n",
    "    pi = (1.0/K)*np.ones((K))\n",
    "    A = (1.0/(2.0*(K-1)))*np.ones((K,K))\n",
    "    for i in range(K):\n",
    "        A[i,i] = 0.5\n",
    "    B = [] #list of coefficient matrices\n",
    "    sigma = [] #list of covariance matrices \n",
    "    for i in range(K):\n",
    "        B[i] = np.random.uniform(-1,1,(p+1,d))\n",
    "        sigma[i] = np.cov(np.transpose(Y[labels==i,:]))\n",
    "    F = np.zeros((n,K))\n",
    "    for i in range(n):\n",
    "        for j in range(K):\n",
    "            mean = np.dot(B,t[i,:])\n",
    "            F[i,j] = multivariate_normal(mean=mean,cov=sigma[i]).pdf(Y[i,:])\n",
    "    for i in range(max_iter):\n",
    "        \"\"\" E step \"\"\"\n",
    "        #calculate P1 and P2\n",
    "        #P1 is a n*K matrix\n",
    "        #P2 is a matrix of size (n-1)*K*K\n",
    "        P11,P2 = fwd_bkw(pi, F.T,A)\n",
    "        P1 = P11.T\n",
    "        \"\"\" M step \"\"\"\n",
    "        pi = P1[0,:]\n",
    "        A = np.transpose(np.sum(A[1:,:,:],axis=0))\n",
    "        for i in range(K):\n",
    "            A[i,:] = A[i,:]/np.sum(P1[1:,:],axis=0)\n",
    "        #calculate the Bs and the sigmas\n",
    "        \"\"\" Update F \"\"\"\n",
    "        for i in range(n):\n",
    "            for j in range(K):\n",
    "                mean = np.dot(B,t[i,:])\n",
    "                F[i,j] = multivariate_normal(mean=mean,cov=sigma[i]).pdf(Y[i,:])\n",
    "    return pi,A,\n",
    "\n",
    "\n",
    "\n",
    "def fwd_bkw(init_dist,F,A):\n",
    "    [K,T] = F.shape\n",
    "    alpha = np.zeros((K,T))\n",
    "    beta = np.zeros((K,T))\n",
    "    \n",
    "    # Forward recursion\n",
    "    t=1\n",
    "    alpha[:,t] = np.multiply(init_dist,F[:,t])\n",
    "    alpha[:,t] = normalize(alpha[:,t].reshape(-1,1),norm='l1')\n",
    "    \n",
    "    for t in np.arange(2,T+1):\n",
    "        m = np.dot(A.T,alpha[:,t-1])\n",
    "        alpha[:,t]=np.multiply(m,F[:,t])\n",
    "        alpha[:,t] = normalize(alpha[:,t].reshape(-1,1),norm='l1')\n",
    "    \n",
    "    # Backward recursion\n",
    "    beta[:,T] = normalize(np.ones(K).reshape(-1,1),norm='l1')\n",
    "    for t in np.arange(1,T)[::-1]:\n",
    "        b = np.multiply(beta[:,t+1], F[:,t+1])\n",
    "        beta[:,t] = np.dot(A,b)\n",
    "        beta[:,t] = normalize(beta[:,t].reshape(-1,1),norm='l1')\n",
    "    \n",
    "    # Compute P1=p(kt|y1,...,yT)=alpha*beta/sum(alpha*beta)\n",
    "    P1 = np.zeros((T,K))\n",
    "    for t in np.arange(T):\n",
    "        P1[:,t] = np.multiply(alpha[:,t],beta[:,t])/np.sum(np.multiply(alpha[:,t],beta[:,t]))\n",
    "        P1[:,t] = normalize(P1[:,t].reshape(-1,1),norm='l1')\n",
    "    \n",
    "    # Compute P2=p(kt,kt+1|y1,...,yT)\n",
    "    P2 = np.zeros((T-1,K,K))\n",
    "    for t in np.arange(1,T-2):\n",
    "        for i in np.arange(1,K-1):\n",
    "            for j in np.arange(1,K-1):\n",
    "                P2[t,i,j]=alpha[i,t]*beta[j,t+1]*F[j,t+1]\n",
    "        P2[t,:,:] = normalize(P2[t,:,:],norm='l1')\n",
    "    return P1,P2"
   ]
  },
  {
   "cell_type": "code",
   "execution_count": null,
   "metadata": {
    "collapsed": true
   },
   "outputs": [],
   "source": []
  }
 ],
 "metadata": {
  "kernelspec": {
   "display_name": "Python 3",
   "language": "python",
   "name": "python3"
  },
  "language_info": {
   "codemirror_mode": {
    "name": "ipython",
    "version": 3
   },
   "file_extension": ".py",
   "mimetype": "text/x-python",
   "name": "python",
   "nbconvert_exporter": "python",
   "pygments_lexer": "ipython3",
   "version": "3.5.2"
  }
 },
 "nbformat": 4,
 "nbformat_minor": 0
}
