{
 "cells": [
  {
   "cell_type": "markdown",
   "metadata": {},
   "source": [
    "# fwd_bkw"
   ]
  },
  {
   "cell_type": "code",
   "execution_count": 2,
   "metadata": {
    "collapsed": false
   },
   "outputs": [],
   "source": [
    "from sklearn.preprocessing import normalize\n",
    "def fwd_bkw(init_dist,F,A):\n",
    "    [K,T] = F.shape\n",
    "    alpha = np.zeros((K,T))\n",
    "    beta = np.zeros((K,T))\n",
    "    \n",
    "    # Forward recursion\n",
    "    t=1\n",
    "    alpha[:,t] = np.multiply(init_dist,F(:,t))\n",
    "    alpha[:,t] = normalize(alpha[:,t].reshape(-1,1),norm='l1')\n",
    "    \n",
    "    for t in np.arange(2,T+1):\n",
    "        m = np.dot(A.T,alpha[:,t-1])\n",
    "        alpha(:,t)=np.multiply(m,F[:,t])\n",
    "        alpha[:,t] = normalize(alpha[:,t].reshape(-1,1),norm='l1')\n",
    "    \n",
    "    # Backward recursion\n",
    "    beta[:,T] = normalize(np.ones(K).reshape(-1,1),norm='l1')\n",
    "    for t in np.arange(1,T)[::-1]:\n",
    "        b = np.multiply(beta[:,t+1], F[:,t+1])\n",
    "        beta[:,t] = np.dot(A,b)\n",
    "        beta[:,t] = normalize(beta[:,t].reshape(-1,1),norm='l1')\n",
    "    \n",
    "    # Compute P1=p(kt|y1,...,yT)=alpha*beta/sum(alpha*beta)\n",
    "    P1 = np.zeros((T,K))\n",
    "    for t in np.arange(T):\n",
    "        P1[:,t] = np.multiply(alpha[:,t],beta[:,t])/np.sum(np.multiply(alpha[:,t],beta[:,t]))\n",
    "        P1[:,t] = normalize(P1[:,t].reshape(-1,1),norm='l1')\n",
    "    \n",
    "    # Compute P2=p(kt,kt+1|y1,...,yT)\n",
    "    P2 = np.zeros((T-1,K,K))\n",
    "    for t in np.arange(1,T-2):\n",
    "        for i in np.arange(1,K-1):\n",
    "            for j in np.arange(1,K-1):\n",
    "                P2(t,i,j)=alpha[i,t]*beta[j,t+1]*F[j,t+1]\n",
    "        P2[t,:,:] = normalize(P2[t,:,:].reshape(-1,1),norm='l1')\n",
    "    return"
   ]
  },
  {
   "cell_type": "code",
   "execution_count": 3,
   "metadata": {
    "collapsed": true
   },
   "outputs": [],
   "source": [
    "import numpy as np"
   ]
  },
  {
   "cell_type": "code",
   "execution_count": 7,
   "metadata": {
    "collapsed": false
   },
   "outputs": [],
   "source": [
    "F=np.ones((3,5))"
   ]
  },
  {
   "cell_type": "code",
   "execution_count": 15,
   "metadata": {
    "collapsed": false
   },
   "outputs": [],
   "source": [
    "A=np.ones((5,4,4))"
   ]
  },
  {
   "cell_type": "code",
   "execution_count": 18,
   "metadata": {
    "collapsed": false
   },
   "outputs": [],
   "source": [
    "from sklearn.preprocessing import normalize\n",
    "A[4,:,:] = normalize(A[4,:,:],norm='l1')"
   ]
  },
  {
   "cell_type": "code",
   "execution_count": 19,
   "metadata": {
    "collapsed": false
   },
   "outputs": [
    {
     "data": {
      "text/plain": [
       "array([[[ 1.  ,  1.  ,  1.  ,  1.  ],\n",
       "        [ 1.  ,  1.  ,  1.  ,  1.  ],\n",
       "        [ 1.  ,  1.  ,  1.  ,  1.  ],\n",
       "        [ 1.  ,  1.  ,  1.  ,  1.  ]],\n",
       "\n",
       "       [[ 1.  ,  1.  ,  1.  ,  1.  ],\n",
       "        [ 1.  ,  1.  ,  1.  ,  1.  ],\n",
       "        [ 1.  ,  1.  ,  1.  ,  1.  ],\n",
       "        [ 1.  ,  1.  ,  1.  ,  1.  ]],\n",
       "\n",
       "       [[ 1.  ,  1.  ,  1.  ,  1.  ],\n",
       "        [ 1.  ,  1.  ,  1.  ,  1.  ],\n",
       "        [ 1.  ,  1.  ,  1.  ,  1.  ],\n",
       "        [ 1.  ,  1.  ,  1.  ,  1.  ]],\n",
       "\n",
       "       [[ 1.  ,  1.  ,  1.  ,  1.  ],\n",
       "        [ 1.  ,  1.  ,  1.  ,  1.  ],\n",
       "        [ 1.  ,  1.  ,  1.  ,  1.  ],\n",
       "        [ 1.  ,  1.  ,  1.  ,  1.  ]],\n",
       "\n",
       "       [[ 0.25,  0.25,  0.25,  0.25],\n",
       "        [ 0.25,  0.25,  0.25,  0.25],\n",
       "        [ 0.25,  0.25,  0.25,  0.25],\n",
       "        [ 0.25,  0.25,  0.25,  0.25]]])"
      ]
     },
     "execution_count": 19,
     "metadata": {},
     "output_type": "execute_result"
    }
   ],
   "source": [
    "A"
   ]
  },
  {
   "cell_type": "code",
   "execution_count": null,
   "metadata": {
    "collapsed": true
   },
   "outputs": [],
   "source": []
  }
 ],
 "metadata": {
  "kernelspec": {
   "display_name": "Python 3",
   "language": "python",
   "name": "python3"
  },
  "language_info": {
   "codemirror_mode": {
    "name": "ipython",
    "version": 3
   },
   "file_extension": ".py",
   "mimetype": "text/x-python",
   "name": "python",
   "nbconvert_exporter": "python",
   "pygments_lexer": "ipython3",
   "version": "3.5.2"
  }
 },
 "nbformat": 4,
 "nbformat_minor": 0
}
