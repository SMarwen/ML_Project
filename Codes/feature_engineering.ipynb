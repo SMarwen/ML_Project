{
 "cells": [
  {
   "cell_type": "markdown",
   "metadata": {},
   "source": [
    "** Some imports **"
   ]
  },
  {
   "cell_type": "code",
   "execution_count": 16,
   "metadata": {
    "collapsed": false
   },
   "outputs": [],
   "source": [
    "from scipy import signal\n",
    "import matplotlib.pyplot as plt\n",
    "import numpy as np\n",
    "import pandas as pd\n",
    "import seaborn\n",
    "%matplotlib inline"
   ]
  },
  {
   "cell_type": "markdown",
   "metadata": {},
   "source": [
    "** Load Data ** "
   ]
  },
  {
   "cell_type": "code",
   "execution_count": 17,
   "metadata": {
    "collapsed": false
   },
   "outputs": [],
   "source": [
    "names = ['ind', 'ax', 'ay', 'az', 'label']\n",
    "acc_names = ['ax', 'ay', 'az']\n",
    "label2str = {1:'Working at Computer', 2:'Standing Up, Walking and Going up-down stairs', \n",
    "             3:'Standing', 4:'Walking',5:'Going Up\\Down Stairs', 6:'Walking and Talking with Someone', \n",
    "             7:'Talking while Standing'}\n",
    "df = pd.read_csv(\"Dataset/1.csv\", sep=',', names=names)\n",
    "del df['ind']\n",
    "df = df[df.label != 0]\n",
    "df['label_str'] = df.label.apply(lambda x:label2str[x])"
   ]
  },
  {
   "cell_type": "markdown",
   "metadata": {},
   "source": [
    "** Add signals ** "
   ]
  },
  {
   "cell_type": "code",
   "execution_count": 18,
   "metadata": {
    "collapsed": false
   },
   "outputs": [
    {
     "data": {
      "text/html": [
       "<div>\n",
       "<table border=\"1\" class=\"dataframe\">\n",
       "  <thead>\n",
       "    <tr style=\"text-align: right;\">\n",
       "      <th></th>\n",
       "      <th>ax</th>\n",
       "      <th>ay</th>\n",
       "      <th>az</th>\n",
       "      <th>label</th>\n",
       "      <th>label_str</th>\n",
       "      <th>mag</th>\n",
       "      <th>ax_mf</th>\n",
       "      <th>ay_mf</th>\n",
       "      <th>az_mf</th>\n",
       "      <th>ax_d</th>\n",
       "      <th>ay_d</th>\n",
       "      <th>az_d</th>\n",
       "      <th>ax_lp</th>\n",
       "      <th>ay_lp</th>\n",
       "      <th>az_lp</th>\n",
       "      <th>ax_hp</th>\n",
       "      <th>ay_hp</th>\n",
       "      <th>az_hp</th>\n",
       "    </tr>\n",
       "  </thead>\n",
       "  <tbody>\n",
       "    <tr>\n",
       "      <th>0</th>\n",
       "      <td>1502</td>\n",
       "      <td>2215</td>\n",
       "      <td>2153</td>\n",
       "      <td>1</td>\n",
       "      <td>Working at Computer</td>\n",
       "      <td>3434.768988</td>\n",
       "      <td>1502.0</td>\n",
       "      <td>2072.0</td>\n",
       "      <td>2047.0</td>\n",
       "      <td>165.0</td>\n",
       "      <td>-143.0</td>\n",
       "      <td>-106.0</td>\n",
       "      <td>0.294570</td>\n",
       "      <td>0.434402</td>\n",
       "      <td>0.422243</td>\n",
       "      <td>1330.950456</td>\n",
       "      <td>1962.753168</td>\n",
       "      <td>1907.813802</td>\n",
       "    </tr>\n",
       "    <tr>\n",
       "      <th>1</th>\n",
       "      <td>1667</td>\n",
       "      <td>2072</td>\n",
       "      <td>2047</td>\n",
       "      <td>1</td>\n",
       "      <td>Working at Computer</td>\n",
       "      <td>3355.932359</td>\n",
       "      <td>1611.0</td>\n",
       "      <td>2072.0</td>\n",
       "      <td>2047.0</td>\n",
       "      <td>165.0</td>\n",
       "      <td>-143.0</td>\n",
       "      <td>-106.0</td>\n",
       "      <td>2.023204</td>\n",
       "      <td>2.907854</td>\n",
       "      <td>2.832932</td>\n",
       "      <td>1155.714581</td>\n",
       "      <td>1362.002403</td>\n",
       "      <td>1353.118154</td>\n",
       "    </tr>\n",
       "    <tr>\n",
       "      <th>2</th>\n",
       "      <td>1611</td>\n",
       "      <td>1957</td>\n",
       "      <td>1906</td>\n",
       "      <td>1</td>\n",
       "      <td>Working at Computer</td>\n",
       "      <td>3171.435952</td>\n",
       "      <td>1611.0</td>\n",
       "      <td>1957.0</td>\n",
       "      <td>1906.0</td>\n",
       "      <td>-56.0</td>\n",
       "      <td>-115.0</td>\n",
       "      <td>-141.0</td>\n",
       "      <td>7.011663</td>\n",
       "      <td>9.821684</td>\n",
       "      <td>9.584772</td>\n",
       "      <td>789.314495</td>\n",
       "      <td>875.625099</td>\n",
       "      <td>847.401747</td>\n",
       "    </tr>\n",
       "    <tr>\n",
       "      <th>3</th>\n",
       "      <td>1601</td>\n",
       "      <td>1939</td>\n",
       "      <td>1831</td>\n",
       "      <td>1</td>\n",
       "      <td>Working at Computer</td>\n",
       "      <td>3110.543843</td>\n",
       "      <td>1611.0</td>\n",
       "      <td>1957.0</td>\n",
       "      <td>1879.0</td>\n",
       "      <td>-10.0</td>\n",
       "      <td>-18.0</td>\n",
       "      <td>-75.0</td>\n",
       "      <td>16.960462</td>\n",
       "      <td>23.217970</td>\n",
       "      <td>22.667546</td>\n",
       "      <td>517.382527</td>\n",
       "      <td>551.056967</td>\n",
       "      <td>481.033069</td>\n",
       "    </tr>\n",
       "    <tr>\n",
       "      <th>4</th>\n",
       "      <td>1643</td>\n",
       "      <td>1965</td>\n",
       "      <td>1879</td>\n",
       "      <td>1</td>\n",
       "      <td>Working at Computer</td>\n",
       "      <td>3176.683018</td>\n",
       "      <td>1604.0</td>\n",
       "      <td>1959.0</td>\n",
       "      <td>1879.0</td>\n",
       "      <td>42.0</td>\n",
       "      <td>26.0</td>\n",
       "      <td>48.0</td>\n",
       "      <td>33.066246</td>\n",
       "      <td>44.414894</td>\n",
       "      <td>43.325413</td>\n",
       "      <td>330.972495</td>\n",
       "      <td>313.877533</td>\n",
       "      <td>283.050573</td>\n",
       "    </tr>\n",
       "  </tbody>\n",
       "</table>\n",
       "</div>"
      ],
      "text/plain": [
       "     ax    ay    az  label            label_str          mag   ax_mf   ay_mf  \\\n",
       "0  1502  2215  2153      1  Working at Computer  3434.768988  1502.0  2072.0   \n",
       "1  1667  2072  2047      1  Working at Computer  3355.932359  1611.0  2072.0   \n",
       "2  1611  1957  1906      1  Working at Computer  3171.435952  1611.0  1957.0   \n",
       "3  1601  1939  1831      1  Working at Computer  3110.543843  1611.0  1957.0   \n",
       "4  1643  1965  1879      1  Working at Computer  3176.683018  1604.0  1959.0   \n",
       "\n",
       "    az_mf   ax_d   ay_d   az_d      ax_lp      ay_lp      az_lp        ax_hp  \\\n",
       "0  2047.0  165.0 -143.0 -106.0   0.294570   0.434402   0.422243  1330.950456   \n",
       "1  2047.0  165.0 -143.0 -106.0   2.023204   2.907854   2.832932  1155.714581   \n",
       "2  1906.0  -56.0 -115.0 -141.0   7.011663   9.821684   9.584772   789.314495   \n",
       "3  1879.0  -10.0  -18.0  -75.0  16.960462  23.217970  22.667546   517.382527   \n",
       "4  1879.0   42.0   26.0   48.0  33.066246  44.414894  43.325413   330.972495   \n",
       "\n",
       "         ay_hp        az_hp  \n",
       "0  1962.753168  1907.813802  \n",
       "1  1362.002403  1353.118154  \n",
       "2   875.625099   847.401747  \n",
       "3   551.056967   481.033069  \n",
       "4   313.877533   283.050573  "
      ]
     },
     "execution_count": 18,
     "metadata": {},
     "output_type": "execute_result"
    }
   ],
   "source": [
    "# Magnitude\n",
    "df['mag'] = np.sqrt(np.square(df[acc_names]).sum(axis=1)) \n",
    "# Median filter - 3rd ordre\n",
    "def med_fil(df, names):\n",
    "    df_r = pd.DataFrame()\n",
    "    df = df[names]\n",
    "    for column in df.columns:\n",
    "        name = column+'_mf'\n",
    "        df_r[name] = signal.medfilt(df[column].values)\n",
    "    return df_r\n",
    "df_med = med_fil(df, acc_names)\n",
    "# Diffrential\n",
    "def diffrential(df, names):\n",
    "    df = df[names]\n",
    "    df_r = df.diff(periods=1, axis=0).fillna(method='backfill')\n",
    "    df_r.columns = [names[0]+'_d', names[1]+'_d', names[2]+'_d']\n",
    "    return df_r\n",
    "df_diff = diffrential(df, acc_names)\n",
    "# Low pass filter\n",
    "def lowpass(df, names):\n",
    "    df = df[names]\n",
    "    df_r = pd.DataFrame()\n",
    "    fs = 52 # frequence sampling is 52\n",
    "    f_cut = 1 # cutoff frequency\n",
    "    fs_n = f_cut*2.0/fs # normalized frequency\n",
    "    b,a = signal.butter(N=3, Wn=fs_n, btype='low')\n",
    "    for column in df.columns : \n",
    "        name = column+'_lp'\n",
    "        df_r[name] = signal.lfilter(b,a,df[column].values)\n",
    "    return df_r\n",
    "df_lp = lowpass(df, acc_names)  \n",
    "# High pass filter \n",
    "def highpass(df, names):\n",
    "    df = df[names]\n",
    "    df_r = pd.DataFrame()\n",
    "    fs = 52 # frequence sampling is 52\n",
    "    f_cut = 1 # cutoff frequency\n",
    "    fs_n = f_cut*2.0/fs # normalized frequency\n",
    "    b,a = signal.butter(N=3, Wn=fs_n, btype='high')\n",
    "    for column in df.columns : \n",
    "        name = column+'_hp'\n",
    "        df_r[name] = signal.lfilter(b,a,df[column].values)\n",
    "    return df_r\n",
    "df_hp = highpass(df, acc_names)\n",
    "\n",
    "# Total\n",
    "df = pd.concat([df, df_med, df_diff, df_lp, df_hp], axis=1)\n",
    "df.head()"
   ]
  },
  {
   "cell_type": "code",
   "execution_count": null,
   "metadata": {
    "collapsed": true
   },
   "outputs": [],
   "source": []
  },
  {
   "cell_type": "code",
   "execution_count": null,
   "metadata": {
    "collapsed": true
   },
   "outputs": [],
   "source": [
    "names = ['ax','ay','az','mag','ax_mf','ay_mf','az_mf','ax_lp','ay_lp','az_lp', 'ax_hp','ay_hp','az_hp']\n",
    "\n",
    "\n",
    "def extract_variables(df):\n",
    "    def rms(df, names):\n",
    "        # TODO\n",
    "        pass\n",
    "    def minmax(df, names=names):\n",
    "        res = []\n",
    "        for column in df.columns:   \n",
    "            if column not in  :\n",
    "                i_min = df[column].argmin()\n",
    "                i_max = df[column].argmax()\n",
    "                i1 = min(i_min, i_max)\n",
    "                i2 = max(i_min, i_max)\n",
    "                m = df[column].values[i1:i2].mean()\n",
    "                res.append(m)\n",
    "        return res\n",
    "        \n",
    "    m = df.mean(axis=0).values\n",
    "    ma = df.mad(axis=0).values\n",
    "    std = df.std(axis=0).values\n",
    "    minimum = df.min(axis=0).values\n",
    "    maximum = df.max(axis=0).values\n",
    "    skew = df.skew(axis=0).values\n",
    "    kurt = df.kurtosis(axis=0).values\n",
    "#     minmax = minmax(df, names) \n",
    "#     rms = rms(df, names) # TODO\n",
    "    inteQ = (df.quantile(q=0.75) - df.quantile(q=0.25)).values\n",
    "    r = np.hstack([m, ma, std, minimum, maximum, skew, kurt, inteQ])    \n",
    "    return r"
   ]
  },
  {
   "cell_type": "code",
   "execution_count": null,
   "metadata": {
    "collapsed": true
   },
   "outputs": [],
   "source": []
  },
  {
   "cell_type": "code",
   "execution_count": null,
   "metadata": {
    "collapsed": true
   },
   "outputs": [],
   "source": []
  },
  {
   "cell_type": "code",
   "execution_count": null,
   "metadata": {
    "collapsed": true
   },
   "outputs": [],
   "source": []
  },
  {
   "cell_type": "code",
   "execution_count": null,
   "metadata": {
    "collapsed": true
   },
   "outputs": [],
   "source": []
  },
  {
   "cell_type": "markdown",
   "metadata": {
    "collapsed": true
   },
   "source": [
    "### Windowing"
   ]
  },
  {
   "cell_type": "code",
   "execution_count": null,
   "metadata": {
    "collapsed": true
   },
   "outputs": [],
   "source": [
    "def windowing(signal,size,step):\n",
    "    d = len(signal) #length of the signal\n",
    "    nk = int(np.floor((d-size+1)/step))+1 #le nombre de fenetres\n",
    "    wk = np.zeros((nk,size)) #windows\n",
    "    for j in range(nk):\n",
    "        wk[j,:] = signal[j*step:j*step+size]\n",
    "    return wk"
   ]
  },
  {
   "cell_type": "code",
   "execution_count": null,
   "metadata": {
    "collapsed": true
   },
   "outputs": [],
   "source": [
    "def window_labels(labels,size,step):\n",
    "    d = len(labels) #length of the signal\n",
    "    nk = int(np.floor((d-size+1)/step))+1 #le nombre de fenetres\n",
    "    labelwk = np.zeros((nk)) #window labels\n",
    "    for j in range(nk):\n",
    "        labelwk[j] = np.max(np.argmax(np.bincount(labels[j*step:j*step+size])))\n",
    "    return labelwk"
   ]
  },
  {
   "cell_type": "code",
   "execution_count": null,
   "metadata": {
    "collapsed": true
   },
   "outputs": [],
   "source": [
    "def extract_windows(df,size,step):\n",
    "    \n",
    "    \"\"\"\n",
    "    extract windows with the specified size and step from the dataframe df\n",
    "    \n",
    "    Returns:\n",
    "    L : List of dataframes. Each dataframe contains a window extracted from each signal in df.\n",
    "    labels: labels of windows\n",
    "    \"\"\"\n",
    "    \n",
    "    L = []\n",
    "    n = df.shape[0]\n",
    "    L_windows = dict()\n",
    "    n_windows = int(np.floor((n-size+1)/step))+1\n",
    "    for column in df.columns:\n",
    "        if column not in ['label','label_str']:\n",
    "            L_windows[column] = windowing(df[column],size,step)\n",
    "    for i in range(n_windows):\n",
    "        ddf = pd.DataFrame()\n",
    "        for column in df.columns:\n",
    "            if column not in ['label','label_str']:\n",
    "                ddf[column] = L_windows[column][i,:]\n",
    "        L.append(ddf)\n",
    "    labels = window_labels(df['label'],size,step)\n",
    "    \n",
    "    return L,labels"
   ]
  },
  {
   "cell_type": "code",
   "execution_count": null,
   "metadata": {
    "collapsed": false
   },
   "outputs": [],
   "source": [
    "Nbr_samples = 52\n",
    "percentage = 0.5 # Between 0 & 1\n",
    "df_X, df_Y = extract_windows(df,Nbr_samples,percentage*Nbr_samples)"
   ]
  },
  {
   "cell_type": "markdown",
   "metadata": {},
   "source": [
    "** Extract Matrix of Features ** "
   ]
  },
  {
   "cell_type": "code",
   "execution_count": null,
   "metadata": {
    "collapsed": false
   },
   "outputs": [],
   "source": [
    "X = extract_variables(df_X[0])\n",
    "for i in range(1,len(df_X)):\n",
    "    vec = extract_variables(df_X[i])\n",
    "    X = np.vstack([X,vec])\n",
    "    \n",
    "y = np.array(df_Y) \n",
    "\n"
   ]
  },
  {
   "cell_type": "code",
   "execution_count": null,
   "metadata": {
    "collapsed": true
   },
   "outputs": [],
   "source": []
  },
  {
   "cell_type": "code",
   "execution_count": null,
   "metadata": {
    "collapsed": true
   },
   "outputs": [],
   "source": []
  },
  {
   "cell_type": "code",
   "execution_count": null,
   "metadata": {
    "collapsed": true
   },
   "outputs": [],
   "source": []
  },
  {
   "cell_type": "markdown",
   "metadata": {},
   "source": [
    "** Machine Learning **"
   ]
  },
  {
   "cell_type": "code",
   "execution_count": null,
   "metadata": {
    "collapsed": false
   },
   "outputs": [],
   "source": [
    "from sklearn.neighbors import KNeighborsClassifier\n",
    "from sklearn.ensemble import RandomForestClassifier\n",
    "from sklearn.svm import SVC\n",
    "from sklearn.model_selection import GridSearchCV\n",
    "from sklearn.preprocessing import scale\n",
    "from sklearn.metrics import confusion_matrix\n",
    "from sklearn.linear_model import LogisticRegressionCV"
   ]
  },
  {
   "cell_type": "code",
   "execution_count": null,
   "metadata": {
    "collapsed": true
   },
   "outputs": [],
   "source": [
    "knn = KNeighborsClassifier(n_neighbors=5)\n",
    "X = scale(X)\n",
    "knn.fit(X,y)\n",
    "print('training score: '+str(knn.score(X,y)))"
   ]
  },
  {
   "cell_type": "code",
   "execution_count": null,
   "metadata": {
    "collapsed": false
   },
   "outputs": [],
   "source": [
    "confusion_matrix(y, knn.predict(X))"
   ]
  },
  {
   "cell_type": "code",
   "execution_count": null,
   "metadata": {
    "collapsed": false
   },
   "outputs": [],
   "source": [
    "lrcv = LogisticRegressionCV(Cs=10, cv=None, penalty='l1', solver='liblinear', n_jobs=8, multi_class='ovr')\n",
    "lrcv.fit(X,y)\n",
    "print('training score: '+str(lrcv.score(X,y)))"
   ]
  },
  {
   "cell_type": "code",
   "execution_count": null,
   "metadata": {
    "collapsed": true
   },
   "outputs": [],
   "source": [
    "param_grid = {'n_neighbors':[3,5,10,15,20,25]}\n",
    "knncv = GridSearchCV(estimator=knn, param_grid=parm_grid)\n",
    "knncv.fit(X,y)"
   ]
  },
  {
   "cell_type": "code",
   "execution_count": null,
   "metadata": {
    "collapsed": true
   },
   "outputs": [],
   "source": [
    "print(knncv.cv_results_)\n",
    "print(knncv.get_params())"
   ]
  },
  {
   "cell_type": "code",
   "execution_count": null,
   "metadata": {
    "collapsed": false
   },
   "outputs": [],
   "source": [
    "from sklearn.model_selection import cross_val_score\n",
    "clf = KNeighborsClassifier(n_neighbors=5)\n",
    "print(cross_val_score(clf, X, y, cv=5, scoring='accuracy'))"
   ]
  },
  {
   "cell_type": "code",
   "execution_count": 50,
   "metadata": {
    "collapsed": false
   },
   "outputs": [
    {
     "data": {
      "text/html": [
       "<div>\n",
       "<table border=\"1\" class=\"dataframe\">\n",
       "  <thead>\n",
       "    <tr style=\"text-align: right;\">\n",
       "      <th></th>\n",
       "      <th>ax</th>\n",
       "      <th>ay</th>\n",
       "      <th>az</th>\n",
       "      <th>mag</th>\n",
       "      <th>ax_mf</th>\n",
       "      <th>ay_mf</th>\n",
       "      <th>az_mf</th>\n",
       "      <th>ax_d</th>\n",
       "      <th>ay_d</th>\n",
       "      <th>az_d</th>\n",
       "      <th>ax_lp</th>\n",
       "      <th>ay_lp</th>\n",
       "      <th>az_lp</th>\n",
       "      <th>ax_hp</th>\n",
       "      <th>ay_hp</th>\n",
       "      <th>az_hp</th>\n",
       "    </tr>\n",
       "  </thead>\n",
       "  <tbody>\n",
       "    <tr>\n",
       "      <th>ax</th>\n",
       "      <td>9004.164152</td>\n",
       "      <td>-3680.213124</td>\n",
       "      <td>2595.348912</td>\n",
       "      <td>3678.971246</td>\n",
       "      <td>8534.725442</td>\n",
       "      <td>-3554.544187</td>\n",
       "      <td>2539.065519</td>\n",
       "      <td>1128.829227</td>\n",
       "      <td>-296.110993</td>\n",
       "      <td>-281.235836</td>\n",
       "      <td>1567.750410</td>\n",
       "      <td>1041.158271</td>\n",
       "      <td>1982.950361</td>\n",
       "      <td>3339.144856</td>\n",
       "      <td>-4025.097503</td>\n",
       "      <td>-126.387458</td>\n",
       "    </tr>\n",
       "    <tr>\n",
       "      <th>ay</th>\n",
       "      <td>-3680.213124</td>\n",
       "      <td>25370.306739</td>\n",
       "      <td>2242.697273</td>\n",
       "      <td>15918.913913</td>\n",
       "      <td>-3511.187298</td>\n",
       "      <td>24625.612554</td>\n",
       "      <td>2182.113383</td>\n",
       "      <td>-389.386865</td>\n",
       "      <td>2328.314423</td>\n",
       "      <td>635.729600</td>\n",
       "      <td>828.961015</td>\n",
       "      <td>-1441.250058</td>\n",
       "      <td>-495.022880</td>\n",
       "      <td>-1235.016848</td>\n",
       "      <td>13644.532406</td>\n",
       "      <td>5410.232425</td>\n",
       "    </tr>\n",
       "    <tr>\n",
       "      <th>az</th>\n",
       "      <td>2595.348912</td>\n",
       "      <td>2242.697273</td>\n",
       "      <td>15503.125633</td>\n",
       "      <td>11550.684851</td>\n",
       "      <td>2527.168268</td>\n",
       "      <td>2159.524934</td>\n",
       "      <td>14733.336952</td>\n",
       "      <td>638.794620</td>\n",
       "      <td>-222.278282</td>\n",
       "      <td>1876.469929</td>\n",
       "      <td>1382.411055</td>\n",
       "      <td>-918.935886</td>\n",
       "      <td>5793.732645</td>\n",
       "      <td>2388.086770</td>\n",
       "      <td>-3772.848145</td>\n",
       "      <td>4518.307442</td>\n",
       "    </tr>\n",
       "    <tr>\n",
       "      <th>mag</th>\n",
       "      <td>3678.971246</td>\n",
       "      <td>15918.913913</td>\n",
       "      <td>11550.684851</td>\n",
       "      <td>18793.051816</td>\n",
       "      <td>3511.580196</td>\n",
       "      <td>15449.172444</td>\n",
       "      <td>11049.704052</td>\n",
       "      <td>688.055569</td>\n",
       "      <td>1244.955357</td>\n",
       "      <td>1329.478709</td>\n",
       "      <td>2108.934171</td>\n",
       "      <td>-951.228995</td>\n",
       "      <td>3960.043436</td>\n",
       "      <td>2261.074279</td>\n",
       "      <td>4694.410116</td>\n",
       "      <td>6013.025214</td>\n",
       "    </tr>\n",
       "    <tr>\n",
       "      <th>ax_mf</th>\n",
       "      <td>8534.725442</td>\n",
       "      <td>-3511.187298</td>\n",
       "      <td>2527.168268</td>\n",
       "      <td>3511.580196</td>\n",
       "      <td>8311.988245</td>\n",
       "      <td>-3397.638802</td>\n",
       "      <td>2503.239599</td>\n",
       "      <td>790.948450</td>\n",
       "      <td>-341.657266</td>\n",
       "      <td>-329.169989</td>\n",
       "      <td>1569.922791</td>\n",
       "      <td>1041.745047</td>\n",
       "      <td>1980.797971</td>\n",
       "      <td>2913.603838</td>\n",
       "      <td>-3932.284882</td>\n",
       "      <td>-166.134206</td>\n",
       "    </tr>\n",
       "    <tr>\n",
       "      <th>ay_mf</th>\n",
       "      <td>-3554.544187</td>\n",
       "      <td>24625.612554</td>\n",
       "      <td>2159.524934</td>\n",
       "      <td>15449.172444</td>\n",
       "      <td>-3397.638802</td>\n",
       "      <td>24130.195125</td>\n",
       "      <td>2118.260421</td>\n",
       "      <td>-343.768815</td>\n",
       "      <td>1983.664420</td>\n",
       "      <td>642.648303</td>\n",
       "      <td>829.554421</td>\n",
       "      <td>-1402.491279</td>\n",
       "      <td>-500.229708</td>\n",
       "      <td>-1163.168270</td>\n",
       "      <td>13056.516230</td>\n",
       "      <td>5314.881329</td>\n",
       "    </tr>\n",
       "    <tr>\n",
       "      <th>az_mf</th>\n",
       "      <td>2539.065519</td>\n",
       "      <td>2182.113383</td>\n",
       "      <td>14733.336952</td>\n",
       "      <td>11049.704052</td>\n",
       "      <td>2503.239599</td>\n",
       "      <td>2118.260421</td>\n",
       "      <td>14431.526766</td>\n",
       "      <td>573.537196</td>\n",
       "      <td>-413.952427</td>\n",
       "      <td>1220.430514</td>\n",
       "      <td>1399.931719</td>\n",
       "      <td>-906.563708</td>\n",
       "      <td>5809.990518</td>\n",
       "      <td>2320.016956</td>\n",
       "      <td>-3842.670817</td>\n",
       "      <td>3791.627596</td>\n",
       "    </tr>\n",
       "    <tr>\n",
       "      <th>ax_d</th>\n",
       "      <td>1128.829227</td>\n",
       "      <td>-389.386865</td>\n",
       "      <td>638.794620</td>\n",
       "      <td>688.055569</td>\n",
       "      <td>790.948450</td>\n",
       "      <td>-343.768815</td>\n",
       "      <td>573.537196</td>\n",
       "      <td>2265.050761</td>\n",
       "      <td>-684.055116</td>\n",
       "      <td>360.493298</td>\n",
       "      <td>-118.916392</td>\n",
       "      <td>-115.186972</td>\n",
       "      <td>-40.916913</td>\n",
       "      <td>2174.855947</td>\n",
       "      <td>-1368.864836</td>\n",
       "      <td>661.374681</td>\n",
       "    </tr>\n",
       "    <tr>\n",
       "      <th>ay_d</th>\n",
       "      <td>-296.110993</td>\n",
       "      <td>2328.314423</td>\n",
       "      <td>-222.278282</td>\n",
       "      <td>1244.955357</td>\n",
       "      <td>-341.657266</td>\n",
       "      <td>1983.664420</td>\n",
       "      <td>-413.952427</td>\n",
       "      <td>-684.055116</td>\n",
       "      <td>4648.506691</td>\n",
       "      <td>412.039960</td>\n",
       "      <td>43.203109</td>\n",
       "      <td>165.292686</td>\n",
       "      <td>223.896258</td>\n",
       "      <td>-870.285979</td>\n",
       "      <td>6842.625872</td>\n",
       "      <td>961.620627</td>\n",
       "    </tr>\n",
       "    <tr>\n",
       "      <th>az_d</th>\n",
       "      <td>-281.235836</td>\n",
       "      <td>635.729600</td>\n",
       "      <td>1876.469929</td>\n",
       "      <td>1329.478709</td>\n",
       "      <td>-329.169989</td>\n",
       "      <td>642.648303</td>\n",
       "      <td>1220.430514</td>\n",
       "      <td>360.493298</td>\n",
       "      <td>412.039960</td>\n",
       "      <td>3752.250355</td>\n",
       "      <td>103.494987</td>\n",
       "      <td>-136.909733</td>\n",
       "      <td>-43.146507</td>\n",
       "      <td>255.807771</td>\n",
       "      <td>330.861516</td>\n",
       "      <td>3227.159863</td>\n",
       "    </tr>\n",
       "    <tr>\n",
       "      <th>ax_lp</th>\n",
       "      <td>1567.750410</td>\n",
       "      <td>828.961015</td>\n",
       "      <td>1382.411055</td>\n",
       "      <td>2108.934171</td>\n",
       "      <td>1569.922791</td>\n",
       "      <td>829.554421</td>\n",
       "      <td>1399.931719</td>\n",
       "      <td>-118.916392</td>\n",
       "      <td>43.203109</td>\n",
       "      <td>103.494987</td>\n",
       "      <td>4898.099922</td>\n",
       "      <td>2319.321706</td>\n",
       "      <td>3043.172777</td>\n",
       "      <td>2.807947</td>\n",
       "      <td>344.496314</td>\n",
       "      <td>365.165218</td>\n",
       "    </tr>\n",
       "    <tr>\n",
       "      <th>ay_lp</th>\n",
       "      <td>1041.158271</td>\n",
       "      <td>-1441.250058</td>\n",
       "      <td>-918.935886</td>\n",
       "      <td>-951.228995</td>\n",
       "      <td>1041.745047</td>\n",
       "      <td>-1402.491279</td>\n",
       "      <td>-906.563708</td>\n",
       "      <td>-115.186972</td>\n",
       "      <td>165.292686</td>\n",
       "      <td>-136.909733</td>\n",
       "      <td>2319.321706</td>\n",
       "      <td>3933.248814</td>\n",
       "      <td>1749.002932</td>\n",
       "      <td>-345.486500</td>\n",
       "      <td>-7.317032</td>\n",
       "      <td>-943.299915</td>\n",
       "    </tr>\n",
       "    <tr>\n",
       "      <th>az_lp</th>\n",
       "      <td>1982.950361</td>\n",
       "      <td>-495.022880</td>\n",
       "      <td>5793.732645</td>\n",
       "      <td>3960.043436</td>\n",
       "      <td>1980.797971</td>\n",
       "      <td>-500.229708</td>\n",
       "      <td>5809.990518</td>\n",
       "      <td>-40.916913</td>\n",
       "      <td>223.896258</td>\n",
       "      <td>-43.146507</td>\n",
       "      <td>3043.172777</td>\n",
       "      <td>1749.002932</td>\n",
       "      <td>9534.198224</td>\n",
       "      <td>-371.736055</td>\n",
       "      <td>926.412618</td>\n",
       "      <td>-10.671143</td>\n",
       "    </tr>\n",
       "    <tr>\n",
       "      <th>ax_hp</th>\n",
       "      <td>3339.144856</td>\n",
       "      <td>-1235.016848</td>\n",
       "      <td>2388.086770</td>\n",
       "      <td>2261.074279</td>\n",
       "      <td>2913.603838</td>\n",
       "      <td>-1163.168270</td>\n",
       "      <td>2320.016956</td>\n",
       "      <td>2174.855947</td>\n",
       "      <td>-870.285979</td>\n",
       "      <td>255.807771</td>\n",
       "      <td>2.807947</td>\n",
       "      <td>-345.486500</td>\n",
       "      <td>-371.736055</td>\n",
       "      <td>5982.060764</td>\n",
       "      <td>-3683.598672</td>\n",
       "      <td>1618.252527</td>\n",
       "    </tr>\n",
       "    <tr>\n",
       "      <th>ay_hp</th>\n",
       "      <td>-4025.097503</td>\n",
       "      <td>13644.532406</td>\n",
       "      <td>-3772.848145</td>\n",
       "      <td>4694.410116</td>\n",
       "      <td>-3932.284882</td>\n",
       "      <td>13056.516230</td>\n",
       "      <td>-3842.670817</td>\n",
       "      <td>-1368.864836</td>\n",
       "      <td>6842.625872</td>\n",
       "      <td>330.861516</td>\n",
       "      <td>344.496314</td>\n",
       "      <td>-7.317032</td>\n",
       "      <td>926.412618</td>\n",
       "      <td>-3683.598672</td>\n",
       "      <td>24151.171984</td>\n",
       "      <td>2910.786683</td>\n",
       "    </tr>\n",
       "    <tr>\n",
       "      <th>az_hp</th>\n",
       "      <td>-126.387458</td>\n",
       "      <td>5410.232425</td>\n",
       "      <td>4518.307442</td>\n",
       "      <td>6013.025214</td>\n",
       "      <td>-166.134206</td>\n",
       "      <td>5314.881329</td>\n",
       "      <td>3791.627596</td>\n",
       "      <td>661.374681</td>\n",
       "      <td>961.620627</td>\n",
       "      <td>3227.159863</td>\n",
       "      <td>365.165218</td>\n",
       "      <td>-943.299915</td>\n",
       "      <td>-10.671143</td>\n",
       "      <td>1618.252527</td>\n",
       "      <td>2910.786683</td>\n",
       "      <td>8166.531245</td>\n",
       "    </tr>\n",
       "  </tbody>\n",
       "</table>\n",
       "</div>"
      ],
      "text/plain": [
       "                ax            ay            az           mag        ax_mf  \\\n",
       "ax     9004.164152  -3680.213124   2595.348912   3678.971246  8534.725442   \n",
       "ay    -3680.213124  25370.306739   2242.697273  15918.913913 -3511.187298   \n",
       "az     2595.348912   2242.697273  15503.125633  11550.684851  2527.168268   \n",
       "mag    3678.971246  15918.913913  11550.684851  18793.051816  3511.580196   \n",
       "ax_mf  8534.725442  -3511.187298   2527.168268   3511.580196  8311.988245   \n",
       "ay_mf -3554.544187  24625.612554   2159.524934  15449.172444 -3397.638802   \n",
       "az_mf  2539.065519   2182.113383  14733.336952  11049.704052  2503.239599   \n",
       "ax_d   1128.829227   -389.386865    638.794620    688.055569   790.948450   \n",
       "ay_d   -296.110993   2328.314423   -222.278282   1244.955357  -341.657266   \n",
       "az_d   -281.235836    635.729600   1876.469929   1329.478709  -329.169989   \n",
       "ax_lp  1567.750410    828.961015   1382.411055   2108.934171  1569.922791   \n",
       "ay_lp  1041.158271  -1441.250058   -918.935886   -951.228995  1041.745047   \n",
       "az_lp  1982.950361   -495.022880   5793.732645   3960.043436  1980.797971   \n",
       "ax_hp  3339.144856  -1235.016848   2388.086770   2261.074279  2913.603838   \n",
       "ay_hp -4025.097503  13644.532406  -3772.848145   4694.410116 -3932.284882   \n",
       "az_hp  -126.387458   5410.232425   4518.307442   6013.025214  -166.134206   \n",
       "\n",
       "              ay_mf         az_mf         ax_d         ay_d         az_d  \\\n",
       "ax     -3554.544187   2539.065519  1128.829227  -296.110993  -281.235836   \n",
       "ay     24625.612554   2182.113383  -389.386865  2328.314423   635.729600   \n",
       "az      2159.524934  14733.336952   638.794620  -222.278282  1876.469929   \n",
       "mag    15449.172444  11049.704052   688.055569  1244.955357  1329.478709   \n",
       "ax_mf  -3397.638802   2503.239599   790.948450  -341.657266  -329.169989   \n",
       "ay_mf  24130.195125   2118.260421  -343.768815  1983.664420   642.648303   \n",
       "az_mf   2118.260421  14431.526766   573.537196  -413.952427  1220.430514   \n",
       "ax_d    -343.768815    573.537196  2265.050761  -684.055116   360.493298   \n",
       "ay_d    1983.664420   -413.952427  -684.055116  4648.506691   412.039960   \n",
       "az_d     642.648303   1220.430514   360.493298   412.039960  3752.250355   \n",
       "ax_lp    829.554421   1399.931719  -118.916392    43.203109   103.494987   \n",
       "ay_lp  -1402.491279   -906.563708  -115.186972   165.292686  -136.909733   \n",
       "az_lp   -500.229708   5809.990518   -40.916913   223.896258   -43.146507   \n",
       "ax_hp  -1163.168270   2320.016956  2174.855947  -870.285979   255.807771   \n",
       "ay_hp  13056.516230  -3842.670817 -1368.864836  6842.625872   330.861516   \n",
       "az_hp   5314.881329   3791.627596   661.374681   961.620627  3227.159863   \n",
       "\n",
       "             ax_lp        ay_lp        az_lp        ax_hp         ay_hp  \\\n",
       "ax     1567.750410  1041.158271  1982.950361  3339.144856  -4025.097503   \n",
       "ay      828.961015 -1441.250058  -495.022880 -1235.016848  13644.532406   \n",
       "az     1382.411055  -918.935886  5793.732645  2388.086770  -3772.848145   \n",
       "mag    2108.934171  -951.228995  3960.043436  2261.074279   4694.410116   \n",
       "ax_mf  1569.922791  1041.745047  1980.797971  2913.603838  -3932.284882   \n",
       "ay_mf   829.554421 -1402.491279  -500.229708 -1163.168270  13056.516230   \n",
       "az_mf  1399.931719  -906.563708  5809.990518  2320.016956  -3842.670817   \n",
       "ax_d   -118.916392  -115.186972   -40.916913  2174.855947  -1368.864836   \n",
       "ay_d     43.203109   165.292686   223.896258  -870.285979   6842.625872   \n",
       "az_d    103.494987  -136.909733   -43.146507   255.807771    330.861516   \n",
       "ax_lp  4898.099922  2319.321706  3043.172777     2.807947    344.496314   \n",
       "ay_lp  2319.321706  3933.248814  1749.002932  -345.486500     -7.317032   \n",
       "az_lp  3043.172777  1749.002932  9534.198224  -371.736055    926.412618   \n",
       "ax_hp     2.807947  -345.486500  -371.736055  5982.060764  -3683.598672   \n",
       "ay_hp   344.496314    -7.317032   926.412618 -3683.598672  24151.171984   \n",
       "az_hp   365.165218  -943.299915   -10.671143  1618.252527   2910.786683   \n",
       "\n",
       "             az_hp  \n",
       "ax     -126.387458  \n",
       "ay     5410.232425  \n",
       "az     4518.307442  \n",
       "mag    6013.025214  \n",
       "ax_mf  -166.134206  \n",
       "ay_mf  5314.881329  \n",
       "az_mf  3791.627596  \n",
       "ax_d    661.374681  \n",
       "ay_d    961.620627  \n",
       "az_d   3227.159863  \n",
       "ax_lp   365.165218  \n",
       "ay_lp  -943.299915  \n",
       "az_lp   -10.671143  \n",
       "ax_hp  1618.252527  \n",
       "ay_hp  2910.786683  \n",
       "az_hp  8166.531245  "
      ]
     },
     "execution_count": 50,
     "metadata": {},
     "output_type": "execute_result"
    }
   ],
   "source": [
    "a = df.groupby('label')\n",
    "S = a.get_group(1).cov()\n",
    "del S['label']\n",
    "S = S.drop(['label'])\n",
    "for i in range(2,len(a)):\n",
    "    S1 = a.get_group(i).cov()\n",
    "    S1 = S1.drop(['label'])\n",
    "    del S1['label']\n",
    "    S = S + S1\n",
    "S"
   ]
  },
  {
   "cell_type": "code",
   "execution_count": null,
   "metadata": {
    "collapsed": false
   },
   "outputs": [],
   "source": []
  },
  {
   "cell_type": "code",
   "execution_count": null,
   "metadata": {
    "collapsed": true
   },
   "outputs": [],
   "source": []
  },
  {
   "cell_type": "code",
   "execution_count": null,
   "metadata": {
    "collapsed": true
   },
   "outputs": [],
   "source": []
  },
  {
   "cell_type": "code",
   "execution_count": null,
   "metadata": {
    "collapsed": true
   },
   "outputs": [],
   "source": []
  },
  {
   "cell_type": "code",
   "execution_count": null,
   "metadata": {
    "collapsed": true
   },
   "outputs": [],
   "source": []
  },
  {
   "cell_type": "code",
   "execution_count": null,
   "metadata": {
    "collapsed": true
   },
   "outputs": [],
   "source": []
  },
  {
   "cell_type": "markdown",
   "metadata": {},
   "source": [
    "# KDA"
   ]
  },
  {
   "cell_type": "code",
   "execution_count": null,
   "metadata": {
    "collapsed": true
   },
   "outputs": [],
   "source": []
  },
  {
   "cell_type": "code",
   "execution_count": null,
   "metadata": {
    "collapsed": true
   },
   "outputs": [],
   "source": []
  },
  {
   "cell_type": "code",
   "execution_count": null,
   "metadata": {
    "collapsed": true
   },
   "outputs": [],
   "source": []
  },
  {
   "cell_type": "code",
   "execution_count": null,
   "metadata": {
    "collapsed": true
   },
   "outputs": [],
   "source": []
  },
  {
   "cell_type": "code",
   "execution_count": null,
   "metadata": {
    "collapsed": true
   },
   "outputs": [],
   "source": []
  },
  {
   "cell_type": "code",
   "execution_count": null,
   "metadata": {
    "collapsed": true
   },
   "outputs": [],
   "source": []
  },
  {
   "cell_type": "code",
   "execution_count": null,
   "metadata": {
    "collapsed": true
   },
   "outputs": [],
   "source": []
  },
  {
   "cell_type": "code",
   "execution_count": null,
   "metadata": {
    "collapsed": true
   },
   "outputs": [],
   "source": []
  },
  {
   "cell_type": "code",
   "execution_count": null,
   "metadata": {
    "collapsed": true
   },
   "outputs": [],
   "source": []
  }
 ],
 "metadata": {
  "anaconda-cloud": {},
  "kernelspec": {
   "display_name": "Python [conda root]",
   "language": "python",
   "name": "conda-root-py"
  },
  "language_info": {
   "codemirror_mode": {
    "name": "ipython",
    "version": 2
   },
   "file_extension": ".py",
   "mimetype": "text/x-python",
   "name": "python",
   "nbconvert_exporter": "python",
   "pygments_lexer": "ipython2",
   "version": "2.7.12"
  }
 },
 "nbformat": 4,
 "nbformat_minor": 1
}
