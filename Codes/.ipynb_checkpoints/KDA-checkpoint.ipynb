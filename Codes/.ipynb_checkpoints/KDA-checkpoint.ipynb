{
 "cells": [
  {
   "cell_type": "code",
   "execution_count": 1,
   "metadata": {
    "collapsed": false
   },
   "outputs": [],
   "source": [
    "from scipy import signal\n",
    "import matplotlib.pyplot as plt\n",
    "import numpy as np\n",
    "import pandas as pd\n",
    "import seaborn\n",
    "%matplotlib inline\n",
    "\n",
    "names = ['ind', 'ax', 'ay', 'az', 'label']\n",
    "acc_names = ['ax', 'ay', 'az']\n",
    "label2str = {1:'Working at Computer', 2:'Standing Up, Walking and Going up-down stairs', \n",
    "             3:'Standing', 4:'Walking',5:'Going Up\\Down Stairs', 6:'Walking and Talking with Someone', \n",
    "             7:'Talking while Standing'}\n",
    "df = pd.read_csv(\"Dataset/1.csv\", sep=',', names=names)\n",
    "del df['ind']\n",
    "df = df[df.label != 0]\n",
    "df['label_str'] = df.label.apply(lambda x:label2str[x])\n",
    "\n",
    "# Magnitude\n",
    "df['mag'] = np.sqrt(np.square(df[acc_names]).sum(axis=1)) \n",
    "# Median filter - 3rd ordre\n",
    "def med_fil(df, names):\n",
    "    df_r = pd.DataFrame()\n",
    "    df = df[names]\n",
    "    for column in df.columns:\n",
    "        name = column+'_mf'\n",
    "        df_r[name] = signal.medfilt(df[column].values)\n",
    "    return df_r\n",
    "df_med = med_fil(df, acc_names)\n",
    "# Diffrential\n",
    "def diffrential(df, names):\n",
    "    df = df[names]\n",
    "    df_r = df.diff(periods=1, axis=0).fillna(method='backfill')\n",
    "    df_r.columns = [names[0]+'_d', names[1]+'_d', names[2]+'_d']\n",
    "    return df_r\n",
    "df_diff = diffrential(df, acc_names)\n",
    "# Low pass filter\n",
    "def lowpass(df, names):\n",
    "    df = df[names]\n",
    "    df_r = pd.DataFrame()\n",
    "    fs = 52 # frequence sampling is 52\n",
    "    f_cut = 1 # cutoff frequency\n",
    "    fs_n = f_cut*2.0/fs # normalized frequency\n",
    "    b,a = signal.butter(N=3, Wn=fs_n, btype='low')\n",
    "    for column in df.columns : \n",
    "        name = column+'_lp'\n",
    "        df_r[name] = signal.lfilter(b,a,df[column].values)\n",
    "    return df_r\n",
    "df_lp = lowpass(df, acc_names)  \n",
    "# High pass filter \n",
    "def highpass(df, names):\n",
    "    df = df[names]\n",
    "    df_r = pd.DataFrame()\n",
    "    fs = 52 # frequence sampling is 52\n",
    "    f_cut = 1 # cutoff frequency\n",
    "    fs_n = f_cut*2.0/fs # normalized frequency\n",
    "    b,a = signal.butter(N=3, Wn=fs_n, btype='high')\n",
    "    for column in df.columns : \n",
    "        name = column+'_hp'\n",
    "        df_r[name] = signal.lfilter(b,a,df[column].values)\n",
    "    return df_r\n",
    "df_hp = highpass(df, acc_names)\n",
    "\n",
    "# Total\n",
    "df = pd.concat([df, df_med, df_diff, df_lp, df_hp], axis=1)\n",
    "# names = ['ax','ay','az','mag','ax_mf','ay_mf','az_mf','ax_lp','ay_lp','az_lp', 'ax_hp','ay_hp','az_hp']\n",
    "\n",
    "\n",
    "def extract_variables(df):\n",
    "    m = df.mean(axis=0).values\n",
    "    ma = df.mad(axis=0).values\n",
    "    std = df.std(axis=0).values\n",
    "    minimum = df.min(axis=0).values\n",
    "    maximum = df.max(axis=0).values\n",
    "    skew = df.skew(axis=0).values\n",
    "    kurt = df.kurtosis(axis=0).values\n",
    "    inteQ = (df.quantile(q=0.75, axis=0).values - df.quantile(q=0.25, axis=0).values)\n",
    "    r = np.hstack([m, ma, std, minimum, maximum, skew, kurt, inteQ])    \n",
    "    return r\n",
    "def windowing(signal,size,step):\n",
    "    d = len(signal) #length of the signal\n",
    "    nk = int(np.floor((d-size+1)/step))+1 #le nombre de fenetres\n",
    "    wk = np.zeros((nk,size)) #windows\n",
    "    for j in range(nk):\n",
    "        wk[j,:] = signal[j*step:j*step+size]\n",
    "    return wk\n",
    "def window_labels(labels,size,step):\n",
    "    d = len(labels) #length of the signal\n",
    "    nk = int(np.floor((d-size+1)/step))+1 #le nombre de fenetres\n",
    "    labelwk = np.zeros((nk)) #window labels\n",
    "    for j in range(nk):\n",
    "        labelwk[j] = np.max(np.argmax(np.bincount(labels[j*step:j*step+size])))\n",
    "    return labelwk\n",
    "def extract_windows(df,size,step):\n",
    "    \n",
    "    \"\"\"\n",
    "    extract windows with the specified size and step from the dataframe df\n",
    "    \n",
    "    Returns:\n",
    "    L : List of dataframes. Each dataframe contains a window extracted from each signal in df.\n",
    "    labels: labels of windows\n",
    "    \"\"\"\n",
    "    \n",
    "    L = []\n",
    "    n = df.shape[0]\n",
    "    L_windows = dict()\n",
    "    n_windows = int(np.floor((n-size+1)/step))+1\n",
    "    for column in df.columns:\n",
    "        if column not in ['label','label_str']:\n",
    "            L_windows[column] = windowing(df[column],size,step)\n",
    "    for i in range(n_windows):\n",
    "        ddf = pd.DataFrame()\n",
    "        for column in df.columns:\n",
    "            if column not in ['label','label_str']:\n",
    "                ddf[column] = L_windows[column][i,:]\n",
    "        L.append(ddf)\n",
    "    labels = window_labels(df['label'],size,step)\n",
    "    return L,labels\n",
    "Nbr_samples = 52\n",
    "percentage = 0.5 # Between 0 & 1\n",
    "df_X, df_Y = extract_windows(df,Nbr_samples,int(percentage*Nbr_samples))\n",
    "X = extract_variables(df_X[0])\n",
    "for i in range(1,len(df_X)):\n",
    "    vec = extract_variables(df_X[i])\n",
    "    X = np.vstack([X,vec])\n",
    "    \n",
    "y = np.array(df_Y) \n",
    "\n",
    "df = pd.DataFrame(X)\n",
    "df['label'] = y"
   ]
  },
  {
   "cell_type": "markdown",
   "metadata": {},
   "source": [
    "## LDA"
   ]
  },
  {
   "cell_type": "code",
   "execution_count": null,
   "metadata": {
    "collapsed": false
   },
   "outputs": [],
   "source": [
    "from mpl_toolkits.mplot3d import Axes3D\n",
    "from matplotlib.colors import Colormap\n",
    "df_lda = df.copy()\n",
    "df_lda = df_lda.loc[df['label'].isin([2,3,5,6])]"
   ]
  },
  {
   "cell_type": "code",
   "execution_count": null,
   "metadata": {
    "collapsed": false,
    "scrolled": true
   },
   "outputs": [],
   "source": [
    "df_LDA = df_lda.copy()\n",
    "label_list = df_LDA.label.unique()\n",
    "\n",
    "# Within-class scatter matrix\n",
    "grouped = df_LDA.groupby('label')\n",
    "Sw = grouped.get_group(label_list[0]).cov()\n",
    "del Sw['label']\n",
    "Sw = Sw.drop(['label'])\n",
    "for i in label_list[1:]:\n",
    "    S1 = grouped.get_group(i).cov()\n",
    "    S1 = S1.drop(['label'])\n",
    "    del S1['label']\n",
    "    Sw = Sw + S1\n",
    "    \n",
    "# Between-class scatter matrix\n",
    "C = len(label_list) # Number of classes\n",
    "Nf = df_LDA.columns.shape[0] - 1  # Number of features\n",
    "a = df_LDA.mean(axis=0)\n",
    "del a['label']\n",
    "u = a.values\n",
    "Sb = np.zeros((Nf,Nf))\n",
    "for i in label_list:\n",
    "    Ni = len(df[df.label==i])\n",
    "    mn = df[df.label==i].mean()\n",
    "    del mn['label']    \n",
    "    ui = mn.values\n",
    "    x = ui-u\n",
    "    x = x[:, None]\n",
    "    Sb += Ni*np.dot(x,x.T)\n",
    "\n",
    "\n",
    "# Projection Matrix Theta\n",
    "Proj_dim=3\n",
    "w,v =  np.linalg.eig(np.dot(np.linalg.inv(Sw),Sb))\n",
    "Theta = np.real(v[:,0:Proj_dim])\n",
    "label=df_LDA.label\n",
    "del df_LDA['label']\n",
    "Y = np.dot(Theta.T, df_LDA.values.T).T # Projected data"
   ]
  },
  {
   "cell_type": "code",
   "execution_count": null,
   "metadata": {
    "collapsed": false
   },
   "outputs": [],
   "source": [
    "plt.plot(np.log(np.abs(w)))\n",
    "plt.title('The eigenvalues of Sw^-1 Sb')"
   ]
  },
  {
   "cell_type": "code",
   "execution_count": null,
   "metadata": {
    "collapsed": false
   },
   "outputs": [],
   "source": [
    "# Display projected data in 3D\n",
    "\n",
    "fig = plt.figure()\n",
    "ax = Axes3D(fig)\n",
    "ax.scatter(Y[:,0],Y[:,1], Y[:,2], c=label, cmap='viridis_r')"
   ]
  },
  {
   "cell_type": "markdown",
   "metadata": {},
   "source": [
    "## KDA"
   ]
  },
  {
   "cell_type": "code",
   "execution_count": 2,
   "metadata": {
    "collapsed": true
   },
   "outputs": [],
   "source": [
    "from mpl_toolkits.mplot3d import Axes3D\n",
    "from matplotlib.colors import Colormap\n",
    "from sklearn.metrics.pairwise import rbf_kernel\n",
    "\n",
    "df_kda = df.copy()\n",
    "# df_kda = df_kda.loc[df['label'].isin([2,3,5,6])]"
   ]
  },
  {
   "cell_type": "code",
   "execution_count": 3,
   "metadata": {
    "collapsed": false
   },
   "outputs": [],
   "source": [
    "df_KDA = df_kda.copy()\n",
    "label_list = df_KDA.label.unique()\n",
    "grouped = df_KDA.groupby('label')\n",
    "X = df_KDA.copy()\n",
    "del X['label']\n",
    "X=X.values"
   ]
  },
  {
   "cell_type": "code",
   "execution_count": null,
   "metadata": {
    "collapsed": false
   },
   "outputs": [],
   "source": [
    "K=rbf_kernel(X,X)\n",
    "[n,m]=K.shape\n",
    "W_int = np.zeros((n,n))\n",
    "W = np.zeros((n,n))\n",
    "for i in np.arange(n):\n",
    "    for j in np.arange(i+1):\n",
    "        k = df_KDA.label.values[i]\n",
    "        W_int[i,j] = (df_KDA.label.values[i]==df_KDA.label.values[j])*(1./len(df[df.label==k]))\n",
    "W = W_int + W_int.T - np.multiply(np.eye(n), W_int)"
   ]
  },
  {
   "cell_type": "code",
   "execution_count": null,
   "metadata": {
    "collapsed": true
   },
   "outputs": [],
   "source": [
    "print(W)"
   ]
  },
  {
   "cell_type": "code",
   "execution_count": null,
   "metadata": {
    "collapsed": false
   },
   "outputs": [],
   "source": [
    "# Within-class scatter matrix\n",
    "Sw = np.dot(K,K)\n",
    "\n",
    "# Between-class scatter matrix\n",
    "Sb = np.dot(K,np.dot(W,K))\n",
    "\n",
    "# Projection Matrix Theta\n",
    "Proj_dim=3\n",
    "w,v =  np.linalg.eig(np.dot(np.linalg.inv(Sw),Sb))\n",
    "Alpha = np.real(v[:,0:Proj_dim])\n",
    "label=df_KDA.label\n",
    "del df_KDA['label']\n",
    "Y = np.dot(Alpha.T,K).T #np.dot(Theta.T, df_LDA.values.T).T # Projected data"
   ]
  },
  {
   "cell_type": "code",
   "execution_count": null,
   "metadata": {
    "collapsed": false
   },
   "outputs": [],
   "source": [
    "plt.plot(np.log(np.abs(w)))\n",
    "plt.title('The eigenvalues of Sw^-1 Sb')"
   ]
  },
  {
   "cell_type": "code",
   "execution_count": null,
   "metadata": {
    "collapsed": false,
    "scrolled": true
   },
   "outputs": [],
   "source": [
    "# Display projected data in 3D\n",
    "\n",
    "fig = plt.figure()\n",
    "ax = Axes3D(fig)\n",
    "ax.scatter(Y[:,0],Y[:,1], Y[:,2], c=label.values, cmap='viridis_r')"
   ]
  },
  {
   "cell_type": "code",
   "execution_count": null,
   "metadata": {
    "collapsed": false
   },
   "outputs": [],
   "source": [
    "from sklearn.linear_model import LogisticRegression, LogisticRegressionCV\n",
    "from sklearn.model_selection import cross_val_score\n",
    "y_LR = label.values\n",
    "X_LR = Y\n",
    "lr = LogisticRegressionCV()\n",
    "lr.fit(X_LR, y_LR)\n",
    "y_pred = lr.predict(X_LR)\n",
    "# cross_val_score(lr, X_LR, y_LR, cv=5)"
   ]
  },
  {
   "cell_type": "code",
   "execution_count": null,
   "metadata": {
    "collapsed": false
   },
   "outputs": [],
   "source": [
    "from sklearn.metrics import confusion_matrix\n",
    "confusion_matrix(label.values, y_pred)"
   ]
  },
  {
   "cell_type": "markdown",
   "metadata": {},
   "source": [
    "## LDA with Sklearn"
   ]
  },
  {
   "cell_type": "code",
   "execution_count": null,
   "metadata": {
    "collapsed": false
   },
   "outputs": [],
   "source": [
    "from sklearn.discriminant_analysis import LinearDiscriminantAnalysis\n",
    "df_kda = df.copy()\n",
    "df_kda = df_kda.loc[df['label'].isin([1,3,4,5])]\n",
    "lda = LinearDiscriminantAnalysis(n_components=3)\n",
    "y=df_kda.label.values\n",
    "del df_kda['label']\n",
    "# del df_kda['label_str']\n",
    "X = df_kda.values\n",
    "lda.fit(X,y)\n",
    "LDA = lda.fit_transform(X,y)"
   ]
  },
  {
   "cell_type": "code",
   "execution_count": null,
   "metadata": {
    "collapsed": false
   },
   "outputs": [],
   "source": [
    "fig = plt.figure()\n",
    "ax = Axes3D(fig)\n",
    "ax.scatter(LDA[:,0],LDA[:,1], LDA[:,2], c=y, cmap='viridis_r')"
   ]
  },
  {
   "cell_type": "code",
   "execution_count": null,
   "metadata": {
    "collapsed": false
   },
   "outputs": [],
   "source": [
    "from sklearn.model_selection import cross_val_score\n",
    "from sklearn.utils import shuffle\n",
    "X,y = shuffle(X,y)\n",
    "print(cross_val_score(lda, X, y, cv=5))"
   ]
  }
 ],
 "metadata": {
  "anaconda-cloud": {},
  "kernelspec": {
   "display_name": "Python [conda root]",
   "language": "python",
   "name": "conda-root-py"
  },
  "language_info": {
   "codemirror_mode": {
    "name": "ipython",
    "version": 2
   },
   "file_extension": ".py",
   "mimetype": "text/x-python",
   "name": "python",
   "nbconvert_exporter": "python",
   "pygments_lexer": "ipython2",
   "version": "2.7.12"
  }
 },
 "nbformat": 4,
 "nbformat_minor": 0
}
