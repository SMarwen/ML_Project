{
 "cells": [
  {
   "cell_type": "markdown",
   "metadata": {},
   "source": [
    "** Some imports **"
   ]
  },
  {
   "cell_type": "code",
   "execution_count": 1,
   "metadata": {
    "collapsed": false
   },
   "outputs": [],
   "source": [
    "from scipy import signal\n",
    "import matplotlib.pyplot as plt\n",
    "import numpy as np\n",
    "import pandas as pd\n",
    "import seaborn\n",
    "%matplotlib inline"
   ]
  },
  {
   "cell_type": "markdown",
   "metadata": {},
   "source": [
    "** Load Data ** "
   ]
  },
  {
   "cell_type": "code",
   "execution_count": 2,
   "metadata": {
    "collapsed": false
   },
   "outputs": [],
   "source": [
    "names = ['ind', 'ax', 'ay', 'az', 'label']\n",
    "acc_names = ['ax', 'ay', 'az']\n",
    "label2str = {1:'Working at Computer', 2:'Standing Up, Walking and Going up-down stairs', \n",
    "             3:'Standing', 4:'Walking',5:'Going Up\\Down Stairs', 6:'Walking and Talking with Someone', \n",
    "             7:'Talking while Standing'}\n",
    "df = pd.read_csv(\"Dataset/1.csv\", sep=',', names=names)\n",
    "del df['ind']\n",
    "df = df[df.label != 0]\n",
    "df['label_str'] = df.label.apply(lambda x:label2str[x])"
   ]
  },
  {
   "cell_type": "markdown",
   "metadata": {},
   "source": [
    "** Add signals ** "
   ]
  },
  {
   "cell_type": "code",
   "execution_count": 3,
   "metadata": {
    "collapsed": false
   },
   "outputs": [
    {
     "data": {
      "text/html": [
       "<div>\n",
       "<table border=\"1\" class=\"dataframe\">\n",
       "  <thead>\n",
       "    <tr style=\"text-align: right;\">\n",
       "      <th></th>\n",
       "      <th>ax</th>\n",
       "      <th>ay</th>\n",
       "      <th>az</th>\n",
       "      <th>label</th>\n",
       "      <th>label_str</th>\n",
       "      <th>mag</th>\n",
       "      <th>ax_mf</th>\n",
       "      <th>ay_mf</th>\n",
       "      <th>az_mf</th>\n",
       "      <th>ax_d</th>\n",
       "      <th>ay_d</th>\n",
       "      <th>az_d</th>\n",
       "      <th>ax_lp</th>\n",
       "      <th>ay_lp</th>\n",
       "      <th>az_lp</th>\n",
       "      <th>ax_hp</th>\n",
       "      <th>ay_hp</th>\n",
       "      <th>az_hp</th>\n",
       "    </tr>\n",
       "  </thead>\n",
       "  <tbody>\n",
       "    <tr>\n",
       "      <th>0</th>\n",
       "      <td>1502</td>\n",
       "      <td>2215</td>\n",
       "      <td>2153</td>\n",
       "      <td>1</td>\n",
       "      <td>Working at Computer</td>\n",
       "      <td>3434.768988</td>\n",
       "      <td>1502.0</td>\n",
       "      <td>2072.0</td>\n",
       "      <td>2047.0</td>\n",
       "      <td>165.0</td>\n",
       "      <td>-143.0</td>\n",
       "      <td>-106.0</td>\n",
       "      <td>0.294570</td>\n",
       "      <td>0.434402</td>\n",
       "      <td>0.422243</td>\n",
       "      <td>1330.950456</td>\n",
       "      <td>1962.753168</td>\n",
       "      <td>1907.813802</td>\n",
       "    </tr>\n",
       "    <tr>\n",
       "      <th>1</th>\n",
       "      <td>1667</td>\n",
       "      <td>2072</td>\n",
       "      <td>2047</td>\n",
       "      <td>1</td>\n",
       "      <td>Working at Computer</td>\n",
       "      <td>3355.932359</td>\n",
       "      <td>1611.0</td>\n",
       "      <td>2072.0</td>\n",
       "      <td>2047.0</td>\n",
       "      <td>165.0</td>\n",
       "      <td>-143.0</td>\n",
       "      <td>-106.0</td>\n",
       "      <td>2.023204</td>\n",
       "      <td>2.907854</td>\n",
       "      <td>2.832932</td>\n",
       "      <td>1155.714581</td>\n",
       "      <td>1362.002403</td>\n",
       "      <td>1353.118154</td>\n",
       "    </tr>\n",
       "    <tr>\n",
       "      <th>2</th>\n",
       "      <td>1611</td>\n",
       "      <td>1957</td>\n",
       "      <td>1906</td>\n",
       "      <td>1</td>\n",
       "      <td>Working at Computer</td>\n",
       "      <td>3171.435952</td>\n",
       "      <td>1611.0</td>\n",
       "      <td>1957.0</td>\n",
       "      <td>1906.0</td>\n",
       "      <td>-56.0</td>\n",
       "      <td>-115.0</td>\n",
       "      <td>-141.0</td>\n",
       "      <td>7.011663</td>\n",
       "      <td>9.821684</td>\n",
       "      <td>9.584772</td>\n",
       "      <td>789.314495</td>\n",
       "      <td>875.625099</td>\n",
       "      <td>847.401747</td>\n",
       "    </tr>\n",
       "    <tr>\n",
       "      <th>3</th>\n",
       "      <td>1601</td>\n",
       "      <td>1939</td>\n",
       "      <td>1831</td>\n",
       "      <td>1</td>\n",
       "      <td>Working at Computer</td>\n",
       "      <td>3110.543843</td>\n",
       "      <td>1611.0</td>\n",
       "      <td>1957.0</td>\n",
       "      <td>1879.0</td>\n",
       "      <td>-10.0</td>\n",
       "      <td>-18.0</td>\n",
       "      <td>-75.0</td>\n",
       "      <td>16.960462</td>\n",
       "      <td>23.217970</td>\n",
       "      <td>22.667546</td>\n",
       "      <td>517.382527</td>\n",
       "      <td>551.056967</td>\n",
       "      <td>481.033069</td>\n",
       "    </tr>\n",
       "    <tr>\n",
       "      <th>4</th>\n",
       "      <td>1643</td>\n",
       "      <td>1965</td>\n",
       "      <td>1879</td>\n",
       "      <td>1</td>\n",
       "      <td>Working at Computer</td>\n",
       "      <td>3176.683018</td>\n",
       "      <td>1604.0</td>\n",
       "      <td>1959.0</td>\n",
       "      <td>1879.0</td>\n",
       "      <td>42.0</td>\n",
       "      <td>26.0</td>\n",
       "      <td>48.0</td>\n",
       "      <td>33.066246</td>\n",
       "      <td>44.414894</td>\n",
       "      <td>43.325413</td>\n",
       "      <td>330.972495</td>\n",
       "      <td>313.877533</td>\n",
       "      <td>283.050573</td>\n",
       "    </tr>\n",
       "  </tbody>\n",
       "</table>\n",
       "</div>"
      ],
      "text/plain": [
       "     ax    ay    az  label            label_str          mag   ax_mf   ay_mf  \\\n",
       "0  1502  2215  2153      1  Working at Computer  3434.768988  1502.0  2072.0   \n",
       "1  1667  2072  2047      1  Working at Computer  3355.932359  1611.0  2072.0   \n",
       "2  1611  1957  1906      1  Working at Computer  3171.435952  1611.0  1957.0   \n",
       "3  1601  1939  1831      1  Working at Computer  3110.543843  1611.0  1957.0   \n",
       "4  1643  1965  1879      1  Working at Computer  3176.683018  1604.0  1959.0   \n",
       "\n",
       "    az_mf   ax_d   ay_d   az_d      ax_lp      ay_lp      az_lp        ax_hp  \\\n",
       "0  2047.0  165.0 -143.0 -106.0   0.294570   0.434402   0.422243  1330.950456   \n",
       "1  2047.0  165.0 -143.0 -106.0   2.023204   2.907854   2.832932  1155.714581   \n",
       "2  1906.0  -56.0 -115.0 -141.0   7.011663   9.821684   9.584772   789.314495   \n",
       "3  1879.0  -10.0  -18.0  -75.0  16.960462  23.217970  22.667546   517.382527   \n",
       "4  1879.0   42.0   26.0   48.0  33.066246  44.414894  43.325413   330.972495   \n",
       "\n",
       "         ay_hp        az_hp  \n",
       "0  1962.753168  1907.813802  \n",
       "1  1362.002403  1353.118154  \n",
       "2   875.625099   847.401747  \n",
       "3   551.056967   481.033069  \n",
       "4   313.877533   283.050573  "
      ]
     },
     "execution_count": 3,
     "metadata": {},
     "output_type": "execute_result"
    }
   ],
   "source": [
    "# Magnitude\n",
    "df['mag'] = np.sqrt(np.square(df[acc_names]).sum(axis=1)) \n",
    "# Median filter - 3rd ordre\n",
    "def med_fil(df, names):\n",
    "    df_r = pd.DataFrame()\n",
    "    df = df[names]\n",
    "    for column in df.columns:\n",
    "        name = column+'_mf'\n",
    "        df_r[name] = signal.medfilt(df[column].values)\n",
    "    return df_r\n",
    "df_med = med_fil(df, acc_names)\n",
    "# Diffrential\n",
    "def diffrential(df, names):\n",
    "    df = df[names]\n",
    "    df_r = df.diff(periods=1, axis=0).fillna(method='backfill')\n",
    "    df_r.columns = [names[0]+'_d', names[1]+'_d', names[2]+'_d']\n",
    "    return df_r\n",
    "df_diff = diffrential(df, acc_names)\n",
    "# Low pass filter\n",
    "def lowpass(df, names):\n",
    "    df = df[names]\n",
    "    df_r = pd.DataFrame()\n",
    "    fs = 52 # frequence sampling is 52\n",
    "    f_cut = 1 # cutoff frequency\n",
    "    fs_n = f_cut*2.0/fs # normalized frequency\n",
    "    b,a = signal.butter(N=3, Wn=fs_n, btype='low')\n",
    "    for column in df.columns : \n",
    "        name = column+'_lp'\n",
    "        df_r[name] = signal.lfilter(b,a,df[column].values)\n",
    "    return df_r\n",
    "df_lp = lowpass(df, acc_names)  \n",
    "# High pass filter \n",
    "def highpass(df, names):\n",
    "    df = df[names]\n",
    "    df_r = pd.DataFrame()\n",
    "    fs = 52 # frequence sampling is 52\n",
    "    f_cut = 1 # cutoff frequency\n",
    "    fs_n = f_cut*2.0/fs # normalized frequency\n",
    "    b,a = signal.butter(N=3, Wn=fs_n, btype='high')\n",
    "    for column in df.columns : \n",
    "        name = column+'_hp'\n",
    "        df_r[name] = signal.lfilter(b,a,df[column].values)\n",
    "    return df_r\n",
    "df_hp = highpass(df, acc_names)\n",
    "\n",
    "# Total\n",
    "df = pd.concat([df, df_med, df_diff, df_lp, df_hp], axis=1)\n",
    "df.head()"
   ]
  },
  {
   "cell_type": "code",
   "execution_count": 4,
   "metadata": {
    "collapsed": true
   },
   "outputs": [],
   "source": [
    "# names = ['ax','ay','az','mag','ax_mf','ay_mf','az_mf','ax_lp','ay_lp','az_lp', 'ax_hp','ay_hp','az_hp']\n",
    "\n",
    "\n",
    "def extract_variables(df):\n",
    "#     def rms(df, names):\n",
    "#         # TODO\n",
    "#         pass\n",
    "#     def minmax(df, names=names):\n",
    "#         res = []\n",
    "#         for column in df.columns:   \n",
    "#             if column in names:\n",
    "#                 i_min = df[column].argmin()\n",
    "#                 i_max = df[column].argmax()\n",
    "#                 i1 = min(i_min, i_max)\n",
    "#                 i2 = max(i_min, i_max)\n",
    "#                 m = df[column].values[i1:i2].mean()\n",
    "#                 res.append(m)\n",
    "#         return res\n",
    "        \n",
    "    m = df.mean(axis=0).values\n",
    "    ma = df.mad(axis=0).values\n",
    "    std = df.std(axis=0).values\n",
    "    minimum = df.min(axis=0).values\n",
    "    maximum = df.max(axis=0).values\n",
    "    skew = df.skew(axis=0).values\n",
    "    kurt = df.kurtosis(axis=0).values\n",
    "#     minmax = minmax(df, names) \n",
    "#     rms = rms(df, names) # TODO\n",
    "    inteQ = (df.quantile(q=0.75) - df.quantile(q=0.25)).values\n",
    "    r = np.hstack([m, ma, std, minimum, maximum, skew, kurt, inteQ])    \n",
    "    return r"
   ]
  },
  {
   "cell_type": "markdown",
   "metadata": {
    "collapsed": true
   },
   "source": [
    "### Windowing"
   ]
  },
  {
   "cell_type": "code",
   "execution_count": 5,
   "metadata": {
    "collapsed": true
   },
   "outputs": [],
   "source": [
    "def windowing(signal,size,step):\n",
    "    d = len(signal) #length of the signal\n",
    "    nk = int(np.floor((d-size+1)/step))+1 #le nombre de fenetres\n",
    "    wk = np.zeros((nk,size)) #windows\n",
    "    for j in range(nk):\n",
    "        wk[j,:] = signal[j*step:j*step+size]\n",
    "    return wk"
   ]
  },
  {
   "cell_type": "code",
   "execution_count": 6,
   "metadata": {
    "collapsed": true
   },
   "outputs": [],
   "source": [
    "def window_labels(labels,size,step):\n",
    "    d = len(labels) #length of the signal\n",
    "    nk = int(np.floor((d-size+1)/step))+1 #le nombre de fenetres\n",
    "    labelwk = np.zeros((nk)) #window labels\n",
    "    for j in range(nk):\n",
    "        labelwk[j] = np.max(np.argmax(np.bincount(labels[j*step:j*step+size])))\n",
    "    return labelwk"
   ]
  },
  {
   "cell_type": "code",
   "execution_count": 7,
   "metadata": {
    "collapsed": true
   },
   "outputs": [],
   "source": [
    "def extract_windows(df,size,step):\n",
    "    \n",
    "    \"\"\"\n",
    "    extract windows with the specified size and step from the dataframe df\n",
    "    \n",
    "    Returns:\n",
    "    L : List of dataframes. Each dataframe contains a window extracted from each signal in df.\n",
    "    labels: labels of windows\n",
    "    \"\"\"\n",
    "    \n",
    "    L = []\n",
    "    n = df.shape[0]\n",
    "    L_windows = dict()\n",
    "    n_windows = int(np.floor((n-size+1)/step))+1\n",
    "    for column in df.columns:\n",
    "        if column not in ['label','label_str']:\n",
    "            L_windows[column] = windowing(df[column],size,step)\n",
    "    for i in range(n_windows):\n",
    "        ddf = pd.DataFrame()\n",
    "        for column in df.columns:\n",
    "            if column not in ['label','label_str']:\n",
    "                ddf[column] = L_windows[column][i,:]\n",
    "        L.append(ddf)\n",
    "    labels = window_labels(df['label'],size,step)\n",
    "    \n",
    "    return L,labels"
   ]
  },
  {
   "cell_type": "code",
   "execution_count": 8,
   "metadata": {
    "collapsed": false
   },
   "outputs": [],
   "source": [
    "Nbr_samples = 52\n",
    "percentage = 0.5 # Between 0 & 1\n",
    "df_X, df_Y = extract_windows(df,Nbr_samples,int(percentage*Nbr_samples))"
   ]
  },
  {
   "cell_type": "markdown",
   "metadata": {},
   "source": [
    "** Extract Matrix of Features ** "
   ]
  },
  {
   "cell_type": "code",
   "execution_count": 9,
   "metadata": {
    "collapsed": false
   },
   "outputs": [],
   "source": [
    "X = extract_variables(df_X[0])\n",
    "for i in range(1,len(df_X)):\n",
    "    vec = extract_variables(df_X[i])\n",
    "    X = np.vstack([X,vec])\n",
    "    \n",
    "y = np.array(df_Y) "
   ]
  },
  {
   "cell_type": "code",
   "execution_count": 12,
   "metadata": {
    "collapsed": false
   },
   "outputs": [
    {
     "data": {
      "text/plain": [
       "(6249,)"
      ]
     },
     "execution_count": 12,
     "metadata": {},
     "output_type": "execute_result"
    }
   ],
   "source": [
    "y.shape"
   ]
  },
  {
   "cell_type": "markdown",
   "metadata": {},
   "source": [
    "** Machine Learning **"
   ]
  },
  {
   "cell_type": "code",
   "execution_count": 61,
   "metadata": {
    "collapsed": false
   },
   "outputs": [],
   "source": [
    "from sklearn.preprocessing import PolynomialFeatures\n",
    "from scipy.stats import multivariate_normal\n",
    "from sklearn.preprocessing import normalize\n",
    "from scipy.misc import logsumexp\n",
    "from scipy.linalg import inv\n",
    "from scipy.linalg import pinv\n",
    "\n",
    "def fit(Y,K,p,labels,max_iter):\n",
    "    #p is the degree of the polynomial regression\n",
    "    #K is the number of classes\n",
    "    #Y is a n*d obeservation matrix\n",
    "    #labels is the labels matrix of Y\n",
    "    \n",
    "    \"\"\" Initialisation \"\"\"\n",
    "    n,d = Y.shape\n",
    "    pf = PolynomialFeatures(degree=p) #transformer to get polynomial features of the time\n",
    "    t = pf.fit_transform(np.arange(n).reshape(-1,1)) #matrix containing the polynomial features of the time\n",
    "    pi = (1.0/K)*np.ones((K))\n",
    "    A = (1.0/(2.0*(K-1)))*np.ones((K,K))\n",
    "    for i in range(K):\n",
    "        A[i,i] = 0.5\n",
    "    B = [] #list of coefficient matrices\n",
    "    sigma = [] #list of covariance matrices \n",
    "    for i in range(K):\n",
    "        B.append(np.random.uniform(0,1,(p+1,d)))\n",
    "        s = np.transpose(Y[labels==i,:])\n",
    "        #sigma.append(np.cov(s))\n",
    "        sigma.append(np.eye(d))\n",
    "    F = np.zeros((n,K))\n",
    "    for i in range(n):\n",
    "        for j in range(K):\n",
    "            mean = np.dot(B[j].T,t[j,:])\n",
    "            F[i,j] = 1.0/n #multivariate_normal(mean=mean,cov=sigma[j],allow_singular=True).pdf(Y[i,:])\n",
    "            #print(F[i,j])\n",
    "    for i in range(max_iter):\n",
    "        \"\"\" E step \"\"\"\n",
    "        #appeler tranpose(F) :c\n",
    "        #calculate P1 and P2\n",
    "        #P1 is a n*K matrix\n",
    "        #P2 is a matrix of size n*K*K\n",
    "        P11,P2 = fwd_bkw(pi,np.transpose(F),A)\n",
    "        P1 = np.transpose(P11)\n",
    "        \"\"\" M step \"\"\"\n",
    "        pi = P1[0,:]\n",
    "        A = np.transpose(np.sum(P2[1:,:,:],axis=0))\n",
    "        for j in range(K):\n",
    "            A[j,:] = A[j,:]/np.sum(P1[1:,:],axis=0)\n",
    "            W = np.diag(P1[:,j])\n",
    "            #print(np.sum(P1[:,j]))\n",
    "            M = np.dot(np.transpose(t),np.dot(W,t))\n",
    "            m = M.shape[0]\n",
    "            B[j] = np.dot(pinv(M),np.transpose(t))\n",
    "            B[j] = np.dot(B[j],np.dot(W,Y))\n",
    "            c = 1.0/np.sum(P1[:,j])\n",
    "            M = Y-np.dot(t,B[j])\n",
    "            sigma[j] = c*np.dot(np.transpose(M),np.dot(W,M))\n",
    "        #calculate the Bs and the sigmas\n",
    "        \"\"\" Update F \"\"\"\n",
    "        for a in range(n):\n",
    "            for j in range(K):\n",
    "                mean = np.dot(B[j].T,t[j,:])\n",
    "                F[a,j] = multivariate_normal(mean=mean,cov=sigma[j],allow_singular=True).pdf(Y[a,:])\n",
    "                #print('i='+str(i)+'j='+str(j)+'F='+str(F[i,j]))\n",
    "        print(i)\n",
    "    return pi,A,B,sigma\n",
    "\n",
    "def fwd_bkw(init_dist,F,A):\n",
    "    [K,T] = F.shape\n",
    "    alpha = np.zeros((K,T))\n",
    "    beta = np.zeros((K,T))\n",
    "    \n",
    "    # Forward recursion\n",
    "    t=1\n",
    "    alpha[:,t] = np.multiply(init_dist,F[:,t])\n",
    "    alpha[:,t] = normalize(alpha[:,t].reshape(1,-1),norm='l1')\n",
    "    \n",
    "    for t in np.arange(2,T):\n",
    "        m = np.dot(A.T,alpha[:,t-1])\n",
    "        alpha[:,t]=np.multiply(m,F[:,t])\n",
    "        alpha[:,t] = normalize(alpha[:,t].reshape(1,-1),norm='l1')\n",
    "    \n",
    "    # Backward recursion\n",
    "    beta[:,T-1] = normalize(np.ones(K).reshape(1,-1),norm='l1')\n",
    "    for t in np.arange(1,T-1)[::-1]:\n",
    "        b = np.multiply(beta[:,t+1], F[:,t+1])\n",
    "        beta[:,t] = np.dot(A,b)\n",
    "        beta[:,t] = normalize(beta[:,t].reshape(1,-1),norm='l1')\n",
    "    \n",
    "    # Compute P1=p(kt|y1,...,yT)=alpha*beta/sum(alpha*beta)\n",
    "    P1 = np.zeros((K,T))\n",
    "    for t in np.arange(T):\n",
    "        P1[:,t] = np.multiply(alpha[:,t],beta[:,t])/logsumexp(np.multiply(alpha[:,t],beta[:,t]))\n",
    "        P1[:,t] = normalize(P1[:,t].reshape(1,-1),norm='l1')\n",
    "    \n",
    "    # Compute P2=p(kt,kt+1|y1,...,yT)\n",
    "    P2 = np.zeros((T-1,K,K))\n",
    "    for t in np.arange(1,T-2):\n",
    "        for i in np.arange(1,K-1):\n",
    "            for j in np.arange(1,K-1):\n",
    "                P2[t,i,j]=alpha[i,t]*beta[j,t+1]*F[j,t+1]\n",
    "        P2[t,:,:] = normalize(P2[t,:,:],norm='l1')\n",
    "    return P1,P2"
   ]
  },
  {
   "cell_type": "code",
   "execution_count": 62,
   "metadata": {
    "collapsed": false
   },
   "outputs": [
    {
     "name": "stdout",
     "output_type": "stream",
     "text": [
      "0\n"
     ]
    },
    {
     "ename": "ValueError",
     "evalue": "array must not contain infs or NaNs",
     "output_type": "error",
     "traceback": [
      "\u001b[0;31m---------------------------------------------------------------------------\u001b[0m",
      "\u001b[0;31mValueError\u001b[0m                                Traceback (most recent call last)",
      "\u001b[0;32m<ipython-input-62-17a11c1bb96f>\u001b[0m in \u001b[0;36m<module>\u001b[0;34m()\u001b[0m\n\u001b[0;32m----> 1\u001b[0;31m \u001b[0mfit\u001b[0m\u001b[0;34m(\u001b[0m\u001b[0mX\u001b[0m\u001b[0;34m,\u001b[0m\u001b[0;36m7\u001b[0m\u001b[0;34m,\u001b[0m\u001b[0;36m10\u001b[0m\u001b[0;34m,\u001b[0m\u001b[0my\u001b[0m\u001b[0;34m,\u001b[0m\u001b[0;36m25\u001b[0m\u001b[0;34m)\u001b[0m\u001b[0;34m\u001b[0m\u001b[0m\n\u001b[0m",
      "\u001b[0;32m<ipython-input-61-eecc3a490ce8>\u001b[0m in \u001b[0;36mfit\u001b[0;34m(Y, K, p, labels, max_iter)\u001b[0m\n\u001b[1;32m     60\u001b[0m             \u001b[0;32mfor\u001b[0m \u001b[0mj\u001b[0m \u001b[0;32min\u001b[0m \u001b[0mrange\u001b[0m\u001b[0;34m(\u001b[0m\u001b[0mK\u001b[0m\u001b[0;34m)\u001b[0m\u001b[0;34m:\u001b[0m\u001b[0;34m\u001b[0m\u001b[0m\n\u001b[1;32m     61\u001b[0m                 \u001b[0mmean\u001b[0m \u001b[0;34m=\u001b[0m \u001b[0mnp\u001b[0m\u001b[0;34m.\u001b[0m\u001b[0mdot\u001b[0m\u001b[0;34m(\u001b[0m\u001b[0mB\u001b[0m\u001b[0;34m[\u001b[0m\u001b[0mj\u001b[0m\u001b[0;34m]\u001b[0m\u001b[0;34m.\u001b[0m\u001b[0mT\u001b[0m\u001b[0;34m,\u001b[0m\u001b[0mt\u001b[0m\u001b[0;34m[\u001b[0m\u001b[0mj\u001b[0m\u001b[0;34m,\u001b[0m\u001b[0;34m:\u001b[0m\u001b[0;34m]\u001b[0m\u001b[0;34m)\u001b[0m\u001b[0;34m\u001b[0m\u001b[0m\n\u001b[0;32m---> 62\u001b[0;31m                 \u001b[0mF\u001b[0m\u001b[0;34m[\u001b[0m\u001b[0ma\u001b[0m\u001b[0;34m,\u001b[0m\u001b[0mj\u001b[0m\u001b[0;34m]\u001b[0m \u001b[0;34m=\u001b[0m \u001b[0mmultivariate_normal\u001b[0m\u001b[0;34m(\u001b[0m\u001b[0mmean\u001b[0m\u001b[0;34m=\u001b[0m\u001b[0mmean\u001b[0m\u001b[0;34m,\u001b[0m\u001b[0mcov\u001b[0m\u001b[0;34m=\u001b[0m\u001b[0msigma\u001b[0m\u001b[0;34m[\u001b[0m\u001b[0mj\u001b[0m\u001b[0;34m]\u001b[0m\u001b[0;34m,\u001b[0m\u001b[0mallow_singular\u001b[0m\u001b[0;34m=\u001b[0m\u001b[0;32mTrue\u001b[0m\u001b[0;34m)\u001b[0m\u001b[0;34m.\u001b[0m\u001b[0mpdf\u001b[0m\u001b[0;34m(\u001b[0m\u001b[0mY\u001b[0m\u001b[0;34m[\u001b[0m\u001b[0ma\u001b[0m\u001b[0;34m,\u001b[0m\u001b[0;34m:\u001b[0m\u001b[0;34m]\u001b[0m\u001b[0;34m)\u001b[0m\u001b[0;34m\u001b[0m\u001b[0m\n\u001b[0m\u001b[1;32m     63\u001b[0m                 \u001b[0;31m#print('i='+str(i)+'j='+str(j)+'F='+str(F[i,j]))\u001b[0m\u001b[0;34m\u001b[0m\u001b[0;34m\u001b[0m\u001b[0m\n\u001b[1;32m     64\u001b[0m         \u001b[0mprint\u001b[0m\u001b[0;34m(\u001b[0m\u001b[0mi\u001b[0m\u001b[0;34m)\u001b[0m\u001b[0;34m\u001b[0m\u001b[0m\n",
      "\u001b[0;32m//anaconda/lib/python3.5/site-packages/scipy/stats/_multivariate.py\u001b[0m in \u001b[0;36m__call__\u001b[0;34m(self, mean, cov, allow_singular, seed)\u001b[0m\n\u001b[1;32m    347\u001b[0m         return multivariate_normal_frozen(mean, cov,\n\u001b[1;32m    348\u001b[0m                                           \u001b[0mallow_singular\u001b[0m\u001b[0;34m=\u001b[0m\u001b[0mallow_singular\u001b[0m\u001b[0;34m,\u001b[0m\u001b[0;34m\u001b[0m\u001b[0m\n\u001b[0;32m--> 349\u001b[0;31m                                           seed=seed)\n\u001b[0m\u001b[1;32m    350\u001b[0m \u001b[0;34m\u001b[0m\u001b[0m\n\u001b[1;32m    351\u001b[0m     \u001b[0;32mdef\u001b[0m \u001b[0m_process_parameters\u001b[0m\u001b[0;34m(\u001b[0m\u001b[0mself\u001b[0m\u001b[0;34m,\u001b[0m \u001b[0mdim\u001b[0m\u001b[0;34m,\u001b[0m \u001b[0mmean\u001b[0m\u001b[0;34m,\u001b[0m \u001b[0mcov\u001b[0m\u001b[0;34m)\u001b[0m\u001b[0;34m:\u001b[0m\u001b[0;34m\u001b[0m\u001b[0m\n",
      "\u001b[0;32m//anaconda/lib/python3.5/site-packages/scipy/stats/_multivariate.py\u001b[0m in \u001b[0;36m__init__\u001b[0;34m(self, mean, cov, allow_singular, seed)\u001b[0m\n\u001b[1;32m    597\u001b[0m         self.dim, self.mean, self.cov = self._dist._process_parameters(\n\u001b[1;32m    598\u001b[0m                                                             None, mean, cov)\n\u001b[0;32m--> 599\u001b[0;31m         \u001b[0mself\u001b[0m\u001b[0;34m.\u001b[0m\u001b[0mcov_info\u001b[0m \u001b[0;34m=\u001b[0m \u001b[0m_PSD\u001b[0m\u001b[0;34m(\u001b[0m\u001b[0mself\u001b[0m\u001b[0;34m.\u001b[0m\u001b[0mcov\u001b[0m\u001b[0;34m,\u001b[0m \u001b[0mallow_singular\u001b[0m\u001b[0;34m=\u001b[0m\u001b[0mallow_singular\u001b[0m\u001b[0;34m)\u001b[0m\u001b[0;34m\u001b[0m\u001b[0m\n\u001b[0m\u001b[1;32m    600\u001b[0m \u001b[0;34m\u001b[0m\u001b[0m\n\u001b[1;32m    601\u001b[0m     \u001b[0;32mdef\u001b[0m \u001b[0mlogpdf\u001b[0m\u001b[0;34m(\u001b[0m\u001b[0mself\u001b[0m\u001b[0;34m,\u001b[0m \u001b[0mx\u001b[0m\u001b[0;34m)\u001b[0m\u001b[0;34m:\u001b[0m\u001b[0;34m\u001b[0m\u001b[0m\n",
      "\u001b[0;32m//anaconda/lib/python3.5/site-packages/scipy/stats/_multivariate.py\u001b[0m in \u001b[0;36m__init__\u001b[0;34m(self, M, cond, rcond, lower, check_finite, allow_singular)\u001b[0m\n\u001b[1;32m    146\u001b[0m         \u001b[0;31m# Note that eigh takes care of array conversion, chkfinite,\u001b[0m\u001b[0;34m\u001b[0m\u001b[0;34m\u001b[0m\u001b[0m\n\u001b[1;32m    147\u001b[0m         \u001b[0;31m# and assertion that the matrix is square.\u001b[0m\u001b[0;34m\u001b[0m\u001b[0;34m\u001b[0m\u001b[0m\n\u001b[0;32m--> 148\u001b[0;31m         \u001b[0ms\u001b[0m\u001b[0;34m,\u001b[0m \u001b[0mu\u001b[0m \u001b[0;34m=\u001b[0m \u001b[0mscipy\u001b[0m\u001b[0;34m.\u001b[0m\u001b[0mlinalg\u001b[0m\u001b[0;34m.\u001b[0m\u001b[0meigh\u001b[0m\u001b[0;34m(\u001b[0m\u001b[0mM\u001b[0m\u001b[0;34m,\u001b[0m \u001b[0mlower\u001b[0m\u001b[0;34m=\u001b[0m\u001b[0mlower\u001b[0m\u001b[0;34m,\u001b[0m \u001b[0mcheck_finite\u001b[0m\u001b[0;34m=\u001b[0m\u001b[0mcheck_finite\u001b[0m\u001b[0;34m)\u001b[0m\u001b[0;34m\u001b[0m\u001b[0m\n\u001b[0m\u001b[1;32m    149\u001b[0m \u001b[0;34m\u001b[0m\u001b[0m\n\u001b[1;32m    150\u001b[0m         \u001b[0meps\u001b[0m \u001b[0;34m=\u001b[0m \u001b[0m_eigvalsh_to_eps\u001b[0m\u001b[0;34m(\u001b[0m\u001b[0ms\u001b[0m\u001b[0;34m,\u001b[0m \u001b[0mcond\u001b[0m\u001b[0;34m,\u001b[0m \u001b[0mrcond\u001b[0m\u001b[0;34m)\u001b[0m\u001b[0;34m\u001b[0m\u001b[0m\n",
      "\u001b[0;32m//anaconda/lib/python3.5/site-packages/scipy/linalg/decomp.py\u001b[0m in \u001b[0;36meigh\u001b[0;34m(a, b, lower, eigvals_only, overwrite_a, overwrite_b, turbo, eigvals, type, check_finite)\u001b[0m\n\u001b[1;32m    286\u001b[0m \u001b[0;34m\u001b[0m\u001b[0m\n\u001b[1;32m    287\u001b[0m     \"\"\"\n\u001b[0;32m--> 288\u001b[0;31m     \u001b[0ma1\u001b[0m \u001b[0;34m=\u001b[0m \u001b[0m_asarray_validated\u001b[0m\u001b[0;34m(\u001b[0m\u001b[0ma\u001b[0m\u001b[0;34m,\u001b[0m \u001b[0mcheck_finite\u001b[0m\u001b[0;34m=\u001b[0m\u001b[0mcheck_finite\u001b[0m\u001b[0;34m)\u001b[0m\u001b[0;34m\u001b[0m\u001b[0m\n\u001b[0m\u001b[1;32m    289\u001b[0m     \u001b[0;32mif\u001b[0m \u001b[0mlen\u001b[0m\u001b[0;34m(\u001b[0m\u001b[0ma1\u001b[0m\u001b[0;34m.\u001b[0m\u001b[0mshape\u001b[0m\u001b[0;34m)\u001b[0m \u001b[0;34m!=\u001b[0m \u001b[0;36m2\u001b[0m \u001b[0;32mor\u001b[0m \u001b[0ma1\u001b[0m\u001b[0;34m.\u001b[0m\u001b[0mshape\u001b[0m\u001b[0;34m[\u001b[0m\u001b[0;36m0\u001b[0m\u001b[0;34m]\u001b[0m \u001b[0;34m!=\u001b[0m \u001b[0ma1\u001b[0m\u001b[0;34m.\u001b[0m\u001b[0mshape\u001b[0m\u001b[0;34m[\u001b[0m\u001b[0;36m1\u001b[0m\u001b[0;34m]\u001b[0m\u001b[0;34m:\u001b[0m\u001b[0;34m\u001b[0m\u001b[0m\n\u001b[1;32m    290\u001b[0m         \u001b[0;32mraise\u001b[0m \u001b[0mValueError\u001b[0m\u001b[0;34m(\u001b[0m\u001b[0;34m'expected square matrix'\u001b[0m\u001b[0;34m)\u001b[0m\u001b[0;34m\u001b[0m\u001b[0m\n",
      "\u001b[0;32m//anaconda/lib/python3.5/site-packages/scipy/_lib/_util.py\u001b[0m in \u001b[0;36m_asarray_validated\u001b[0;34m(a, check_finite, sparse_ok, objects_ok, mask_ok, as_inexact)\u001b[0m\n\u001b[1;32m    226\u001b[0m             \u001b[0;32mraise\u001b[0m \u001b[0mValueError\u001b[0m\u001b[0;34m(\u001b[0m\u001b[0;34m'masked arrays are not supported'\u001b[0m\u001b[0;34m)\u001b[0m\u001b[0;34m\u001b[0m\u001b[0m\n\u001b[1;32m    227\u001b[0m     \u001b[0mtoarray\u001b[0m \u001b[0;34m=\u001b[0m \u001b[0mnp\u001b[0m\u001b[0;34m.\u001b[0m\u001b[0masarray_chkfinite\u001b[0m \u001b[0;32mif\u001b[0m \u001b[0mcheck_finite\u001b[0m \u001b[0;32melse\u001b[0m \u001b[0mnp\u001b[0m\u001b[0;34m.\u001b[0m\u001b[0masarray\u001b[0m\u001b[0;34m\u001b[0m\u001b[0m\n\u001b[0;32m--> 228\u001b[0;31m     \u001b[0ma\u001b[0m \u001b[0;34m=\u001b[0m \u001b[0mtoarray\u001b[0m\u001b[0;34m(\u001b[0m\u001b[0ma\u001b[0m\u001b[0;34m)\u001b[0m\u001b[0;34m\u001b[0m\u001b[0m\n\u001b[0m\u001b[1;32m    229\u001b[0m     \u001b[0;32mif\u001b[0m \u001b[0;32mnot\u001b[0m \u001b[0mobjects_ok\u001b[0m\u001b[0;34m:\u001b[0m\u001b[0;34m\u001b[0m\u001b[0m\n\u001b[1;32m    230\u001b[0m         \u001b[0;32mif\u001b[0m \u001b[0ma\u001b[0m\u001b[0;34m.\u001b[0m\u001b[0mdtype\u001b[0m \u001b[0;32mis\u001b[0m \u001b[0mnp\u001b[0m\u001b[0;34m.\u001b[0m\u001b[0mdtype\u001b[0m\u001b[0;34m(\u001b[0m\u001b[0;34m'O'\u001b[0m\u001b[0;34m)\u001b[0m\u001b[0;34m:\u001b[0m\u001b[0;34m\u001b[0m\u001b[0m\n",
      "\u001b[0;32m//anaconda/lib/python3.5/site-packages/numpy/lib/function_base.py\u001b[0m in \u001b[0;36masarray_chkfinite\u001b[0;34m(a, dtype, order)\u001b[0m\n\u001b[1;32m   1031\u001b[0m     \u001b[0;32mif\u001b[0m \u001b[0ma\u001b[0m\u001b[0;34m.\u001b[0m\u001b[0mdtype\u001b[0m\u001b[0;34m.\u001b[0m\u001b[0mchar\u001b[0m \u001b[0;32min\u001b[0m \u001b[0mtypecodes\u001b[0m\u001b[0;34m[\u001b[0m\u001b[0;34m'AllFloat'\u001b[0m\u001b[0;34m]\u001b[0m \u001b[0;32mand\u001b[0m \u001b[0;32mnot\u001b[0m \u001b[0mnp\u001b[0m\u001b[0;34m.\u001b[0m\u001b[0misfinite\u001b[0m\u001b[0;34m(\u001b[0m\u001b[0ma\u001b[0m\u001b[0;34m)\u001b[0m\u001b[0;34m.\u001b[0m\u001b[0mall\u001b[0m\u001b[0;34m(\u001b[0m\u001b[0;34m)\u001b[0m\u001b[0;34m:\u001b[0m\u001b[0;34m\u001b[0m\u001b[0m\n\u001b[1;32m   1032\u001b[0m         raise ValueError(\n\u001b[0;32m-> 1033\u001b[0;31m             \"array must not contain infs or NaNs\")\n\u001b[0m\u001b[1;32m   1034\u001b[0m     \u001b[0;32mreturn\u001b[0m \u001b[0ma\u001b[0m\u001b[0;34m\u001b[0m\u001b[0m\n\u001b[1;32m   1035\u001b[0m \u001b[0;34m\u001b[0m\u001b[0m\n",
      "\u001b[0;31mValueError\u001b[0m: array must not contain infs or NaNs"
     ]
    }
   ],
   "source": [
    "fit(X,7,10,y,25)"
   ]
  },
  {
   "cell_type": "code",
   "execution_count": null,
   "metadata": {
    "collapsed": true
   },
   "outputs": [],
   "source": []
  }
 ],
 "metadata": {
  "anaconda-cloud": {},
  "kernelspec": {
   "display_name": "Python [default]",
   "language": "python",
   "name": "python3"
  },
  "language_info": {
   "codemirror_mode": {
    "name": "ipython",
    "version": 3
   },
   "file_extension": ".py",
   "mimetype": "text/x-python",
   "name": "python",
   "nbconvert_exporter": "python",
   "pygments_lexer": "ipython3",
   "version": "3.5.2"
  }
 },
 "nbformat": 4,
 "nbformat_minor": 1
}
