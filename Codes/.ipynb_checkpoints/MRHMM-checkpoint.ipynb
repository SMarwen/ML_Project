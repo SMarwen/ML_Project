{
 "cells": [
  {
   "cell_type": "code",
   "execution_count": null,
   "metadata": {
    "collapsed": true
   },
   "outputs": [],
   "source": [
    "from sklearn.preprocessing import PolynomialFeatures\n",
    "from scipy.stats import multivariate_normal\n",
    "\n",
    "def fit(Y,K,p,labels,max_iter):\n",
    "    # p is the degree of the polynomial regression\n",
    "    # K is the number of classes\n",
    "    #Y is a n*d obeservation matrix\n",
    "    #labels is the labels matrix of Y\n",
    "    \"\"\" Initialisation \"\"\"\n",
    "    pf = PolynomialFeatures(degree=p) #transformer to get polynomial features of the time\n",
    "    t = pf.fit_transform(np.arange(n).reshape(-1,1)) #matrix containing the polynomial features of the time\n",
    "    n,d = Y.shape\n",
    "    pi = (1.0/K)*np.ones((K))\n",
    "    A = (1.0/(2.0*(K-1)))*np.ones((K,K))\n",
    "    for i in range(K):\n",
    "        A[i,i] = 0.5\n",
    "    B = [] #list of coefficient matrices\n",
    "    sigma = [] #list of covariance matrices \n",
    "    for i in range(K):\n",
    "        B[i] = np.random.uniform(-1,1,(p+1,d))\n",
    "        sigma[i] = np.cov(np.transpose(Y[labels==i,:]))\n",
    "    F = np.zeros((n,K))\n",
    "    for i in range(n):\n",
    "        for j in range(K):\n",
    "        mean = np.dot(B,t[i,:])\n",
    "        F[i,j] = multivariate_normal(mean=mean,cov=sigma[i]).pdf(Y[i,:])\n",
    "    for i in range(max_iter):\n",
    "        \"\"\" E step \"\"\"\n",
    "        #appeler tranpose(F) :c\n",
    "        #calculate P1 and P2\n",
    "        #P1 is a n*K matrix\n",
    "        #P2 is a matrix of size n*K*K\n",
    "        \"\"\" M step \"\"\"\n",
    "        pi = P1[0,:]\n",
    "        A = np.transpose(np.sum(A[1:,:,:],axis=0))\n",
    "        for i in range(K):\n",
    "            A[i,:] = A[i,:]/np.sum(P1[1:,:],axis=0)\n",
    "        #calculate the Bs and the sigmas\n",
    "        \"\"\" Update F \"\"\"\n",
    "        for i in range(n):\n",
    "            for j in range(K):\n",
    "                mean = np.dot(B,t[i,:])\n",
    "                F[i,j] = multivariate_normal(mean=mean,cov=sigma[i]).pdf(Y[i,:])"
   ]
  },
  {
   "cell_type": "code",
   "execution_count": 2,
   "metadata": {
    "collapsed": false
   },
   "outputs": [],
   "source": [
    "import numpy as np\n",
    "A = np.zeros((2,3))"
   ]
  },
  {
   "cell_type": "code",
   "execution_count": 3,
   "metadata": {
    "collapsed": true
   },
   "outputs": [],
   "source": [
    "a,b = A.shape"
   ]
  },
  {
   "cell_type": "code",
   "execution_count": 6,
   "metadata": {
    "collapsed": false
   },
   "outputs": [
    {
     "data": {
      "text/plain": [
       "3"
      ]
     },
     "execution_count": 6,
     "metadata": {},
     "output_type": "execute_result"
    }
   ],
   "source": [
    "b"
   ]
  },
  {
   "cell_type": "code",
   "execution_count": 20,
   "metadata": {
    "collapsed": false
   },
   "outputs": [
    {
     "data": {
      "text/plain": [
       "array([[ 0. ,  0. ,  0. ],\n",
       "       [ 0. ,  0. ,  0. ],\n",
       "       [ 0. ,  0. ,  0.5]])"
      ]
     },
     "execution_count": 20,
     "metadata": {},
     "output_type": "execute_result"
    }
   ],
   "source": [
    "np.cov(np.transpose(A))"
   ]
  },
  {
   "cell_type": "code",
   "execution_count": 19,
   "metadata": {
    "collapsed": false
   },
   "outputs": [
    {
     "data": {
      "text/plain": [
       "array([[ 0.,  0.,  0.],\n",
       "       [ 0.,  0.,  1.]])"
      ]
     },
     "execution_count": 19,
     "metadata": {},
     "output_type": "execute_result"
    }
   ],
   "source": [
    "def fwd_bkw(int_dist,F,A):\n",
    "    "
   ]
  },
  {
   "cell_type": "code",
   "execution_count": 18,
   "metadata": {
    "collapsed": true
   },
   "outputs": [],
   "source": [
    "A[1,2] = 1"
   ]
  },
  {
   "cell_type": "code",
   "execution_count": 23,
   "metadata": {
    "collapsed": false
   },
   "outputs": [],
   "source": [
    "from sklearn.preprocessing import PolynomialFeatures\n",
    "pf = PolynomialFeatures(degree=3)"
   ]
  },
  {
   "cell_type": "code",
   "execution_count": 28,
   "metadata": {
    "collapsed": false
   },
   "outputs": [
    {
     "data": {
      "text/plain": [
       "array([[ 1.,  0.,  0.,  0.],\n",
       "       [ 1.,  1.,  1.,  1.],\n",
       "       [ 1.,  2.,  4.,  8.]])"
      ]
     },
     "execution_count": 28,
     "metadata": {},
     "output_type": "execute_result"
    }
   ],
   "source": [
    "pf.fit_transform(np.arange(3).reshape(-1,1))"
   ]
  },
  {
   "cell_type": "code",
   "execution_count": 37,
   "metadata": {
    "collapsed": false
   },
   "outputs": [
    {
     "data": {
      "text/plain": [
       "0.3989422804014327"
      ]
     },
     "execution_count": 37,
     "metadata": {},
     "output_type": "execute_result"
    }
   ],
   "source": [
    "from scipy.stats import multivariate_normal"
   ]
  },
  {
   "cell_type": "code",
   "execution_count": 52,
   "metadata": {
    "collapsed": true
   },
   "outputs": [],
   "source": [
    "a = np.ones((3,4,2))"
   ]
  },
  {
   "cell_type": "code",
   "execution_count": 53,
   "metadata": {
    "collapsed": false
   },
   "outputs": [
    {
     "data": {
      "text/plain": [
       "(3, 4, 2)"
      ]
     },
     "execution_count": 53,
     "metadata": {},
     "output_type": "execute_result"
    }
   ],
   "source": [
    "a.shape"
   ]
  },
  {
   "cell_type": "code",
   "execution_count": 54,
   "metadata": {
    "collapsed": false
   },
   "outputs": [
    {
     "data": {
      "text/plain": [
       "(4, 2)"
      ]
     },
     "execution_count": 54,
     "metadata": {},
     "output_type": "execute_result"
    }
   ],
   "source": [
    "np.sum(a,axis=0).shape"
   ]
  },
  {
   "cell_type": "code",
   "execution_count": 58,
   "metadata": {
    "collapsed": false
   },
   "outputs": [
    {
     "name": "stdout",
     "output_type": "stream",
     "text": [
      "[2 3 4]\n"
     ]
    }
   ],
   "source": [
    "print(np.arange(2,5))"
   ]
  },
  {
   "cell_type": "code",
   "execution_count": null,
   "metadata": {
    "collapsed": true
   },
   "outputs": [],
   "source": []
  }
 ],
 "metadata": {
  "anaconda-cloud": {},
  "kernelspec": {
   "display_name": "Python [default]",
   "language": "python",
   "name": "python3"
  },
  "language_info": {
   "codemirror_mode": {
    "name": "ipython",
    "version": 3
   },
   "file_extension": ".py",
   "mimetype": "text/x-python",
   "name": "python",
   "nbconvert_exporter": "python",
   "pygments_lexer": "ipython3",
   "version": "3.5.2"
  }
 },
 "nbformat": 4,
 "nbformat_minor": 1
}
